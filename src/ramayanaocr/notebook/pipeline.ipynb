{
 "cells": [
  {
   "cell_type": "code",
   "execution_count": 1,
   "metadata": {
    "collapsed": true
   },
   "outputs": [
    {
     "name": "stderr",
     "output_type": "stream",
     "text": [
      "/Users/rohanraj/opt/anaconda3/lib/python3.7/site-packages/past/types/oldstr.py:5: DeprecationWarning: Using or importing the ABCs from 'collections' instead of from 'collections.abc' is deprecated, and in 3.8 it will stop working\n",
      "  from collections import Iterable\n",
      "/Users/rohanraj/opt/anaconda3/lib/python3.7/site-packages/past/builtins/misc.py:4: DeprecationWarning: Using or importing the ABCs from 'collections' instead of from 'collections.abc' is deprecated, and in 3.8 it will stop working\n",
      "  from collections import Mapping\n",
      "/Users/rohanraj/opt/anaconda3/lib/python3.7/site-packages/nltk/decorators.py:68: DeprecationWarning: `formatargspec` is deprecated since Python 3.5. Use `signature` and the `Signature` object directly\n",
      "  regargs, varargs, varkwargs, defaults, formatvalue=lambda value: \"\"\n",
      "/Users/rohanraj/opt/anaconda3/lib/python3.7/site-packages/nltk/lm/counter.py:15: DeprecationWarning: Using or importing the ABCs from 'collections' instead of from 'collections.abc' is deprecated, and in 3.8 it will stop working\n",
      "  from collections import Sequence, defaultdict\n",
      "/Users/rohanraj/opt/anaconda3/lib/python3.7/site-packages/scipy/sparse/sparsetools.py:21: DeprecationWarning: `scipy.sparse.sparsetools` is deprecated!\n",
      "scipy.sparse.sparsetools is a private module for scipy.sparse, and should not be used.\n",
      "  _deprecated()\n"
     ]
    }
   ],
   "source": [
    "# https://www.kaggle.com/kernels/scriptcontent/11511967/notebook\n",
    "\n",
    "import string\n",
    "import numpy as np\n",
    "import pandas as pd\n",
    "# from IPython.display import display\n",
    "from tqdm import tqdm\n",
    "from collections import Counter\n",
    "import ast\n",
    "import re\n",
    "from pprint import pprint\n",
    "\n",
    "# Plotting tools\n",
    "import pyLDAvis\n",
    "import pyLDAvis.gensim  # don't skip this\n",
    "import matplotlib.pyplot as plt\n",
    "# import matplotlib.mlab as mlab\n",
    "import seaborn as sb\n",
    "\n",
    "from sklearn.feature_extraction.text import CountVectorizer\n",
    "# from textblob import TextBlob\n",
    "import scipy.stats as stats\n",
    "\n",
    "from sklearn.decomposition import TruncatedSVD\n",
    "from sklearn.decomposition import LatentDirichletAllocation\n",
    "from sklearn.manifold import TSNE\n",
    "\n",
    "import nltk\n",
    "from nltk.tag import tnt\n",
    "from nltk.corpus import stopwords\n",
    "from nltk.corpus import indian\n",
    "from nltk.tokenize import word_tokenize,sent_tokenize\n",
    "\n",
    "import gensim\n",
    "from gensim.utils import simple_preprocess\n",
    "from gensim.models import CoherenceModel\n",
    "import gensim.corpora as corpora\n",
    "from gensim.summarization import summarize\n",
    "\n",
    "import stanfordnlp\n",
    "\n",
    "import warnings\n",
    "warnings.filterwarnings(\"ignore\")\n",
    "\n",
    "# from bokeh.plotting import figure, output_file, show\n",
    "# from bokeh.models import Label\n",
    "# from bokeh.io import output_notebook\n",
    "# output_notebook()\n",
    "\n",
    "%matplotlib inline"
   ]
  },
  {
   "cell_type": "code",
   "execution_count": 2,
   "metadata": {
    "collapsed": true
   },
   "outputs": [
    {
     "name": "stdout",
     "output_type": "stream",
     "text": [
      "Use device: cpu\n",
      "---\n",
      "Loading: tokenize\n",
      "With settings: \n",
      "{'model_path': '/Users/rohanraj/stanfordnlp_resources/hi_hdtb_models/hi_hdtb_tokenizer.pt', 'lang': 'hi', 'shorthand': 'hi_hdtb', 'mode': 'predict'}\n",
      "---\n",
      "Loading: pos\n",
      "With settings: \n",
      "{'model_path': '/Users/rohanraj/stanfordnlp_resources/hi_hdtb_models/hi_hdtb_tagger.pt', 'pretrain_path': '/Users/rohanraj/stanfordnlp_resources/hi_hdtb_models/hi_hdtb.pretrain.pt', 'lang': 'hi', 'shorthand': 'hi_hdtb', 'mode': 'predict'}\n",
      "---\n",
      "Loading: lemma\n",
      "With settings: \n",
      "{'model_path': '/Users/rohanraj/stanfordnlp_resources/hi_hdtb_models/hi_hdtb_lemmatizer.pt', 'lang': 'hi', 'shorthand': 'hi_hdtb', 'mode': 'predict'}\n",
      "Building an attentional Seq2Seq model...\n",
      "Using a Bi-LSTM encoder\n",
      "Using soft attention for LSTM.\n",
      "Finetune all embeddings.\n",
      "[Running seq2seq lemmatizer with edit classifier]\n",
      "---\n",
      "Loading: depparse\n",
      "With settings: \n",
      "{'model_path': '/Users/rohanraj/stanfordnlp_resources/hi_hdtb_models/hi_hdtb_parser.pt', 'pretrain_path': '/Users/rohanraj/stanfordnlp_resources/hi_hdtb_models/hi_hdtb.pretrain.pt', 'lang': 'hi', 'shorthand': 'hi_hdtb', 'mode': 'predict'}\n",
      "Done loading processors!\n",
      "---\n"
     ]
    }
   ],
   "source": [
    "nlp = stanfordnlp.Pipeline ( lang = 'hi' ) "
   ]
  },
  {
   "cell_type": "code",
   "execution_count": 3,
   "metadata": {},
   "outputs": [],
   "source": [
    "datafile = '../data/hindi.txt'\n",
    "with open(datafile,'r',encoding='utf-8') as f:\n",
    "    text = f.read()\n",
    "    text = text.split(\"॥\")"
   ]
  },
  {
   "cell_type": "code",
   "execution_count": 88,
   "metadata": {},
   "outputs": [
    {
     "name": "stderr",
     "output_type": "stream",
     "text": [
      "100%|██████████| 1290/1290 [00:00<00:00, 423401.84it/s]\n"
     ]
    }
   ],
   "source": [
    "text_sentence = []\n",
    "i = 0\n",
    "for word in tqdm(text):\n",
    "#     print(i,word)\n",
    "    if re.findall(\"^\\s?\\d+\\s?\",word):\n",
    "        continue\n",
    "    else:   \n",
    "        text_sentence.append(word)"
   ]
  },
  {
   "cell_type": "code",
   "execution_count": 90,
   "metadata": {},
   "outputs": [
    {
     "data": {
      "text/plain": [
       "[' वानर हनुमान सीमा के देखने की उत्कण्ठा येसूयास्त की प्रतीक्षा करता भया ',\n",
       " ' घ४-९) सीता को रावण के भन्तापुर में ढूंढना : वह महावीर्य महान हृदय पाछा वानर श्रेष्ठ रात के समय अद्वार से कोट को फांद कर का में प्रविष्ट हृया ',\n",
       " 'धानरराज के उस हितैषी ने लंका नगरी में प्रवेश करके मानों अपना बायां पाओं शत्रु के सिर पर रख दिया ',\n",
       " \" उस समय सुन्दर 'सब ओर से सजे हुए श्वेत मेघ के तुल्य राक्षसों के जो पद्माकार, स्वस्तिकाकार, और वर्धमान घर है, उन से इंका जगमन. कर रही थी, राधा के अर्थ वह श्रीमान् घूमता हुमा उसे देखता भया और आनन्दित होता भया ।। ३, ४ \",\n",
       " ' एक भवन से दूसरे भवन को जाते हुए उस वानरश्रेष्ठ ने वहाँ र विविध भाकृति और रूपों वाले भवन देखे ',\n",
       " ' वहाँ राक्षसों के घरों में उसने अप \"करते हुओं के मन्त्र मुने और स्वाध्याय में रत राक्षसों को देखा ',\n",
       " ' राक्षसों के घर से घर और बगीचों को देखता हुआ बेधड़क यह महलों के पास घूमा ',\n",
       " ' तव पवनपुत्र हनुमान ने यह भवन श्रेष्ठ देखा, जो राक्षसपति का भवन है, और बहुत महलों से भरपूर है',\n",
       " ' विशाल नेत्रोंवाली वैदेही सीता को ढूंढता हुआ शत्रुनों के मारनेवाला, हनुमान उसके चारों ओर घूमा ।। ९ ',\n",
       " ' तब वह उस सुन्दर पड़ी माला की ओर मस्थित हुआ, जो उत्तम स्त्री की तरह रावण की बड़ी पारी थी ',\n",
       " ' जिमकी सीदियों में माणेयां जड़ी हुई हैं, जो सोने के झरोकों से भूपित हैं, सङ्गमर्मर का फर्श है, और बीच २ में दान्त का काम किया हुआ है',\n",
       " ' जो सम, सीधे, बड़े कंचे पूरे २ मजे हुए स्तम्भों मे मानों आते ऊँचे पलों से छौ की ओर प्रस्थित हुई है ',\n",
       " ' सोंचम गलीचा जिसमें पिछा हुआ है, राक्षों के अधिपति से सेवित है, मन को प्रसन्न करने वाली और शरीर की कान्ति को बढ़ाने वाली है।। १३ ',\n",
       " ' दीपकों के प्रकाश से, रावण के तेज से, और भूषणों की चमक मे, पानों जलती हुई प्रतीत होती है।',\n",
       " ' उस शाला में देखते हुए इनुमान् ने रत्नों मे भाषेत एक दिव्य विलोरी शपनानन ( बैठने मोने का एला ) देखा ',\n",
       " ' ओर शराब पीकर बन्द हुए, श्रीद चमकते हुए पलङ्ग -. पर लेटे हुए राक्षसाधिपति को उस महारानर ने देखा ',\n",
       " ' ससके पास आकर बड़ा गीवन इा अत्यन्त डरे हुए की तरह पीछे-इट गया, और प्यारी खियों वाले उस राक्षसपति के घर. में बस वानर यूयपति ने चन्द्र तुल्य मुखवाली, सुन्दर कुण्डल पहने हुई, ताजे घुषषों की पालाएं और भूषणोंवाली पनियों को देसा ',\n",
       " ' उन में से एकान्त स्थिव एक गुभ शय्या के ऊपर लेटी हुई रुपवती उम ने एक खो देखी ',\n",
       " ' जो अपनी शोभा से मानों उस उत्तम भवन को शोभायमान करती थी, बद्द मन्दोदरी थी, जोकि सुन्दर रूपवती वहां लेटी हुई थी ',\n",
       " ' महाबाहु पवनसुत ने उस भूषित स्त्री को देखकर उमके रूप यौवन की सम्पदा से रूपाल किया, कि कदाचित यह सीता हो ']"
      ]
     },
     "execution_count": 90,
     "metadata": {},
     "output_type": "execute_result"
    }
   ],
   "source": [
    "text_sentence[0:20]"
   ]
  },
  {
   "cell_type": "code",
   "execution_count": 6,
   "metadata": {},
   "outputs": [
    {
     "data": {
      "text/plain": [
       "667"
      ]
     },
     "execution_count": 6,
     "metadata": {},
     "output_type": "execute_result"
    }
   ],
   "source": [
    "len(text_sentence) #total sentences"
   ]
  },
  {
   "cell_type": "code",
   "execution_count": 7,
   "metadata": {},
   "outputs": [],
   "source": [
    "# hindi stopwords\n",
    "stop_words_df = pd.read_csv(\"../data/stopwords.txt\", header = None)\n",
    "stop_words = list(set(stop_words_df.values.reshape(1,-1).tolist()[0]))\n",
    "stop_words.extend([\"।\", \"।।\", \")\", \"(\", \",\",'\"',\"हे\", \"हो\", 'में','से','COMMA'])"
   ]
  },
  {
   "cell_type": "code",
   "execution_count": 8,
   "metadata": {},
   "outputs": [
    {
     "data": {
      "text/plain": [
       "723"
      ]
     },
     "execution_count": 8,
     "metadata": {},
     "output_type": "execute_result"
    }
   ],
   "source": [
    "len(stop_words)"
   ]
  },
  {
   "cell_type": "code",
   "execution_count": 9,
   "metadata": {},
   "outputs": [
    {
     "data": {
      "text/plain": [
       "['कौनसे',\n",
       " 'जाएंगी',\n",
       " 'दे',\n",
       " 'कराएं',\n",
       " 'लेने',\n",
       " 'सुनी',\n",
       " 'दोनो',\n",
       " 'किया',\n",
       " 'देने',\n",
       " 'में']"
      ]
     },
     "execution_count": 9,
     "metadata": {},
     "output_type": "execute_result"
    }
   ],
   "source": [
    "stop_words[:10]"
   ]
  },
  {
   "cell_type": "code",
   "execution_count": 10,
   "metadata": {},
   "outputs": [],
   "source": [
    "# Define helper functions\n",
    "def get_top_n_words(n_top_words, text_data, stop_words):\n",
    "    '''\n",
    "    returns a tuple of the top n words in a sample and their \n",
    "    accompanying counts, given a CountVectorizer object and text sample\n",
    "    '''\n",
    "    count_vectorizer = CountVectorizer(stop_words=stop_words) \n",
    "    vectorized_headlines = count_vectorizer.fit_transform(text_data)\n",
    "#     print(vectorized_headlines)\n",
    "    vectorized_total = np.sum(vectorized_headlines, axis=0)\n",
    "    word_indices = np.flip(np.argsort(vectorized_total)[0,:], 1)\n",
    "    word_values = np.flip(np.sort(vectorized_total)[0,:],1)\n",
    "    \n",
    "    word_vectors = np.zeros((n_top_words, vectorized_headlines.shape[1]))\n",
    "    for i in range(n_top_words):\n",
    "        word_vectors[i,word_indices[0,i]] = 1\n",
    "\n",
    "    words = [word[0] for \n",
    "             word in count_vectorizer.inverse_transform(word_vectors)]\n",
    "\n",
    "    return (words, word_values[0,:n_top_words].tolist()[0])"
   ]
  },
  {
   "cell_type": "code",
   "execution_count": 11,
   "metadata": {},
   "outputs": [],
   "source": [
    "words, word_values = get_top_n_words(n_top_words=5,text_data=text_sentence, stop_words= stop_words)"
   ]
  },
  {
   "cell_type": "code",
   "execution_count": 12,
   "metadata": {},
   "outputs": [
    {
     "data": {
      "text/plain": [
       "(['मह', 'सम', 'नर', 'नह', 'षस'], [110, 108, 104, 102, 100])"
      ]
     },
     "execution_count": 12,
     "metadata": {},
     "output_type": "execute_result"
    }
   ],
   "source": [
    "words, word_values"
   ]
  },
  {
   "cell_type": "code",
   "execution_count": 132,
   "metadata": {},
   "outputs": [],
   "source": [
    "#from nltk import FreqDist"
   ]
  },
  {
   "cell_type": "code",
   "execution_count": 133,
   "metadata": {},
   "outputs": [],
   "source": [
    "#fdist1 = FreqDist(str_text[0:2500])"
   ]
  },
  {
   "cell_type": "code",
   "execution_count": 134,
   "metadata": {},
   "outputs": [],
   "source": [
    "#fdist1"
   ]
  },
  {
   "cell_type": "code",
   "execution_count": 13,
   "metadata": {},
   "outputs": [],
   "source": [
    "def create_str_from_list(original_read_text):\n",
    "    prepared_text = \"\"\n",
    "    for line in original_read_text:\n",
    "        line = line.split()\n",
    "#       print(line)\n",
    "        tmp_line = \" \".join(line)\n",
    "        prepared_text += \" \\n\"+tmp_line\n",
    "    return prepared_text"
   ]
  },
  {
   "cell_type": "code",
   "execution_count": 14,
   "metadata": {},
   "outputs": [],
   "source": [
    "str_text = create_str_from_list(text_sentence)"
   ]
  },
  {
   "cell_type": "code",
   "execution_count": 106,
   "metadata": {},
   "outputs": [],
   "source": [
    "text_pos = nlp(str_text[0:2500])"
   ]
  },
  {
   "cell_type": "code",
   "execution_count": 127,
   "metadata": {},
   "outputs": [
    {
     "data": {
      "text/plain": [
       "<Token index=1;words=[<Word index=1;text=वानर;lemma=वानर;upos=NOUN;xpos=NN;feats=Case=Nom|Gender=Masc|Number=Sing|Person=3;governor=3;dependency_relation=nmod>]>"
      ]
     },
     "execution_count": 127,
     "metadata": {},
     "output_type": "execute_result"
    }
   ],
   "source": [
    "text_pos.sentences[0].tokens[0]"
   ]
  },
  {
   "cell_type": "code",
   "execution_count": 131,
   "metadata": {},
   "outputs": [
    {
     "data": {
      "text/plain": [
       "'वानर'"
      ]
     },
     "execution_count": 131,
     "metadata": {},
     "output_type": "execute_result"
    }
   ],
   "source": [
    "text_pos.sentences[0].words[0].lemma"
   ]
  },
  {
   "cell_type": "code",
   "execution_count": 123,
   "metadata": {
    "collapsed": true
   },
   "outputs": [
    {
     "data": {
      "text/plain": [
       "\"<Token index=1;words=[<Word index=1;text=वानर;lemma=वानर;upos=NOUN;xpos=NN;feats=Case=Nom|Gender=Masc|Number=Sing|Person=3;governor=3;dependency_relation=nmod>]>\\n<Token index=2;words=[<Word index=2;text=हनुमान;lemma=हनुमान;upos=PROPN;xpos=NNPC;feats=Case=Nom|Gender=Masc|Number=Sing|Person=3;governor=3;dependency_relation=compound>]>\\n<Token index=3;words=[<Word index=3;text=सीमा;lemma=सीमा;upos=PROPN;xpos=NNP;feats=Case=Acc|Gender=Fem|Number=Sing|Person=3;governor=5;dependency_relation=nmod>]>\\n<Token index=4;words=[<Word index=4;text=के;lemma=का;upos=ADP;xpos=PSP;feats=AdpType=Post;governor=3;dependency_relation=case>]>\\n<Token index=5;words=[<Word index=5;text=देखने;lemma=देख;upos=VERB;xpos=VM;feats=Case=Acc|Number=Sing|VerbForm=Inf;governor=8;dependency_relation=nmod>]>\\n<Token index=6;words=[<Word index=6;text=की;lemma=का;upos=ADP;xpos=PSP;feats=AdpType=Post|Case=Acc|Gender=Fem|Number=Sing;governor=5;dependency_relation=mark>]>\\n<Token index=7;words=[<Word index=7;text=उत्कण्ठा;lemma=उत्कण्ठा;upos=NOUN;xpos=NNC;feats=Case=Nom|Gender=Fem|Number=Sing|Person=3;governor=8;dependency_relation=compound>]>\\n<Token index=8;words=[<Word index=8;text=येसूयास्त;lemma=येसूयास्त;upos=PROPN;xpos=NNP;feats=Case=Acc|Gender=Masc|Number=Sing|Person=3;governor=10;dependency_relation=nmod>]>\\n<Token index=9;words=[<Word index=9;text=की;lemma=का;upos=ADP;xpos=PSP;feats=AdpType=Post|Case=Nom|Gender=Fem|Number=Sing;governor=8;dependency_relation=case>]>\\n<Token index=10;words=[<Word index=10;text=प्रतीक्षा;lemma=प्रतीक्षा;upos=NOUN;xpos=NN;feats=Case=Nom|Gender=Fem|Number=Sing|Person=3;governor=11;dependency_relation=compound>]>\\n<Token index=11;words=[<Word index=11;text=करता;lemma=कर;upos=VERB;xpos=VM;feats=Aspect=Imp|Gender=Masc|Number=Sing|VerbForm=Part;governor=21;dependency_relation=advcl>]>\\n<Token index=12;words=[<Word index=12;text=भया;lemma=भया;upos=PROPN;xpos=NNPC;feats=Case=Nom|Gender=Masc|Number=Sing|Person=3;governor=13;dependency_relation=compound>]>\\n<Token index=13;words=[<Word index=13;text=घ४-९;lemma=घ४-९;upos=PROPN;xpos=NNP;feats=Case=Nom|Number=Sing|Person=3;governor=15;dependency_relation=nmod>]>\\n<Token index=14;words=[<Word index=14;text=);lemma=);upos=PUNCT;xpos=SYM;feats=_;governor=13;dependency_relation=punct>]>\\n<Token index=15;words=[<Word index=15;text=सीता;lemma=सीता;upos=PROPN;xpos=NNP;feats=Case=Acc|Gender=Fem|Number=Sing|Person=3;governor=21;dependency_relation=iobj>]>\\n<Token index=16;words=[<Word index=16;text=को;lemma=को;upos=ADP;xpos=PSP;feats=AdpType=Post;governor=15;dependency_relation=case>]>\\n<Token index=17;words=[<Word index=17;text=रावण;lemma=रावण;upos=PROPN;xpos=NNP;feats=Case=Acc|Gender=Masc|Number=Sing|Person=3;governor=19;dependency_relation=nmod>]>\\n<Token index=18;words=[<Word index=18;text=के;lemma=का;upos=ADP;xpos=PSP;feats=AdpType=Post|Case=Acc|Gender=Masc|Number=Sing;governor=17;dependency_relation=case>]>\\n<Token index=19;words=[<Word index=19;text=भन्तापुर;lemma=भन्तापुर;upos=PROPN;xpos=NNP;feats=Case=Acc|Gender=Masc|Number=Sing|Person=3;governor=21;dependency_relation=obl>]>\\n<Token index=20;words=[<Word index=20;text=में;lemma=में;upos=ADP;xpos=PSP;feats=AdpType=Post;governor=19;dependency_relation=case>]>\\n<Token index=21;words=[<Word index=21;text=ढूंढना;lemma=ढूँढ;upos=VERB;xpos=VM;feats=Case=Nom|VerbForm=Inf;governor=23;dependency_relation=nmod>]>\\n<Token index=22;words=[<Word index=22;text=:;lemma=:;upos=PUNCT;xpos=SYM;feats=_;governor=21;dependency_relation=punct>]>\\n<Token index=23;words=[<Word index=23;text=वह;lemma=वह;upos=PRON;xpos=PRP;feats=Case=Nom|Number=Sing|Person=3|PronType=Prs;governor=38;dependency_relation=nsubj>]>\\n<Token index=24;words=[<Word index=24;text=महावीर्य;lemma=महावीर्य;upos=PROPN;xpos=NNP;feats=Case=Nom|Gender=Masc|Number=Sing|Person=3;governor=27;dependency_relation=nmod>]>\\n<Token index=25;words=[<Word index=25;text=महान;lemma=महान;upos=ADJ;xpos=JJ;feats=Case=Acc;governor=27;dependency_relation=amod>]>\\n<Token index=26;words=[<Word index=26;text=हृदय;lemma=हृदय;upos=PROPN;xpos=NNPC;feats=Case=Nom|Gender=Masc|Number=Sing|Person=3;governor=27;dependency_relation=compound>]>\\n<Token index=27;words=[<Word index=27;text=पाछा;lemma=पाछ;upos=PROPN;xpos=NNP;feats=Case=Nom|Gender=Masc|Number=Sing|Person=3;governor=30;dependency_relation=nmod>]>\\n<Token index=28;words=[<Word index=28;text=वानर;lemma=वानर;upos=ADJ;xpos=JJC;feats=Case=Nom|Gender=Masc|Number=Sing|Person=3;governor=29;dependency_relation=punct>]>\\n<Token index=29;words=[<Word index=29;text=श्रेष्ठ;lemma=श्रेष्ठ;upos=ADJ;xpos=JJ;feats=Case=Acc;governor=30;dependency_relation=amod>]>\\n<Token index=30;words=[<Word index=30;text=रात;lemma=रात;upos=NOUN;xpos=NN;feats=Case=Acc|Gender=Fem|Number=Sing|Person=3;governor=21;dependency_relation=obl>]>\\n<Token index=31;words=[<Word index=31;text=के;lemma=का;upos=ADP;xpos=PSP;feats=AdpType=Post|Case=Acc|Gender=Masc;governor=30;dependency_relation=case>]>\\n<Token index=32;words=[<Word index=32;text=समय;lemma=समय;upos=ADP;xpos=PSP;feats=Case=Acc|Gender=Masc;governor=30;dependency_relation=case>]>\\n<Token index=33;words=[<Word index=33;text=अद्वार;lemma=अद्वार;upos=PROPN;xpos=NNP;feats=Case=Acc|Gender=Masc|Number=Sing|Person=3;governor=35;dependency_relation=nmod>]>\\n<Token index=34;words=[<Word index=34;text=से;lemma=से;upos=ADP;xpos=PSP;feats=AdpType=Post;governor=33;dependency_relation=case>]>\\n<Token index=35;words=[<Word index=35;text=कोट;lemma=कोट;upos=PROPN;xpos=NNP;feats=Case=Acc|Gender=Masc|Number=Sing|Person=3;governor=38;dependency_relation=obj>]>\\n<Token index=36;words=[<Word index=36;text=को;lemma=को;upos=ADP;xpos=PSP;feats=AdpType=Post;governor=35;dependency_relation=case>]>\\n<Token index=37;words=[<Word index=37;text=फांद;lemma=फांद;upos=ADJ;xpos=JJ;feats=_;governor=38;dependency_relation=compound>]>\\n<Token index=38;words=[<Word index=38;text=कर;lemma=कर;upos=VERB;xpos=VM;feats=Case=Acc;governor=41;dependency_relation=advmod>]>\\n<Token index=39;words=[<Word index=39;text=का;lemma=का;upos=ADP;xpos=PSP;feats=AdpType=Post|Case=Nom|Gender=Masc|Number=Sing;governor=38;dependency_relation=mark>]>\\n<Token index=40;words=[<Word index=40;text=में;lemma=में;upos=ADP;xpos=PSP;feats=AdpType=Post;governor=38;dependency_relation=mark>]>\\n<Token index=41;words=[<Word index=41;text=प्रविष्ट;lemma=प्रविष्ट;upos=ADJ;xpos=JJ;feats=Case=Acc;governor=43;dependency_relation=amod>]>\\n<Token index=42;words=[<Word index=42;text=हृया;lemma=हृ;upos=PROPN;xpos=NNPC;feats=Case=Nom|Gender=Masc|Number=Sing|Person=3;governor=43;dependency_relation=compound>]>\\n<Token index=43;words=[<Word index=43;text=धानरराज;lemma=धानरराज;upos=PROPN;xpos=NNP;feats=Case=Acc|Gender=Masc|Number=Sing|Person=3;governor=46;dependency_relation=nmod>]>\\n<Token index=44;words=[<Word index=44;text=के;lemma=का;upos=ADP;xpos=PSP;feats=AdpType=Post|Case=Acc|Gender=Masc|Number=Sing;governor=43;dependency_relation=case>]>\\n<Token index=45;words=[<Word index=45;text=उस;lemma=वह;upos=DET;xpos=DEM;feats=Case=Acc|Number=Sing|Person=3|PronType=Dem;governor=46;dependency_relation=det>]>\\n<Token index=46;words=[<Word index=46;text=हितैषी;lemma=हितैषी;upos=NOUN;xpos=NN;feats=Case=Acc|Gender=Masc|Number=Sing|Person=3;governor=61;dependency_relation=nsubj>]>\\n<Token index=47;words=[<Word index=47;text=ने;lemma=ने;upos=ADP;xpos=PSP;feats=AdpType=Post;governor=46;dependency_relation=case>]>\\n<Token index=48;words=[<Word index=48;text=लंका;lemma=लंका;upos=PROPN;xpos=NNPC;feats=Case=Nom|Gender=Fem|Number=Sing|Person=3;governor=49;dependency_relation=compound>]>\\n<Token index=49;words=[<Word index=49;text=नगरी;lemma=नगरी;upos=PROPN;xpos=NNP;feats=Case=Acc|Gender=Fem|Number=Sing|Person=3;governor=52;dependency_relation=obl>]>\\n<Token index=50;words=[<Word index=50;text=में;lemma=में;upos=ADP;xpos=PSP;feats=AdpType=Post;governor=49;dependency_relation=case>]>\\n<Token index=51;words=[<Word index=51;text=प्रवेश;lemma=प्रवेश;upos=NOUN;xpos=NN;feats=Case=Nom|Gender=Masc|Number=Sing|Person=3;governor=52;dependency_relation=compound>]>\\n<Token index=52;words=[<Word index=52;text=करके;lemma=कर;upos=VERB;xpos=VM;feats=VerbForm=Conv;governor=61;dependency_relation=advcl>]>\\n<Token index=53;words=[<Word index=53;text=मानों;lemma=मान;upos=NOUN;xpos=NN;feats=Case=Nom|Gender=Masc|Number=Plur|Person=3;governor=61;dependency_relation=obj>]>\\n<Token index=54;words=[<Word index=54;text=अपना;lemma=अपना;upos=PRON;xpos=PRP;feats=Case=Nom|Gender=Masc|Number=Sing|PronType=Prs;governor=55;dependency_relation=nmod>]>\\n<Token index=55;words=[<Word index=55;text=बायां;lemma=बायां;upos=NOUN;xpos=NN;feats=Case=Nom|Gender=Masc|Number=Sing|Person=3;governor=56;dependency_relation=nmod>]>\\n<Token index=56;words=[<Word index=56;text=पाओं;lemma=पा;upos=NOUN;xpos=NN;feats=Case=Nom|Gender=Masc|Number=Plur|Person=3;governor=61;dependency_relation=obj>]>\\n<Token index=57;words=[<Word index=57;text=शत्रु;lemma=शत्रु;upos=NOUN;xpos=NN;feats=Case=Acc|Gender=Masc|Number=Sing|Person=3;governor=59;dependency_relation=nmod>]>\\n<Token index=58;words=[<Word index=58;text=के;lemma=का;upos=ADP;xpos=PSP;feats=AdpType=Post|Case=Acc|Gender=Masc|Number=Sing;governor=57;dependency_relation=case>]>\\n<Token index=59;words=[<Word index=59;text=सिर;lemma=सिर;upos=NOUN;xpos=NN;feats=Case=Acc|Gender=Masc|Number=Sing|Person=3;governor=61;dependency_relation=obl>]>\\n<Token index=60;words=[<Word index=60;text=पर;lemma=पर;upos=ADP;xpos=PSP;feats=AdpType=Post;governor=59;dependency_relation=case>]>\\n<Token index=61;words=[<Word index=61;text=रख;lemma=रख;upos=VERB;xpos=VM;feats=Number=Sing|Voice=Act;governor=64;dependency_relation=acl:relcl>]>\\n<Token index=62;words=[<Word index=62;text=दिया;lemma=दे;upos=AUX;xpos=VAUX;feats=Aspect=Perf|Gender=Masc|Number=Sing|VerbForm=Part;governor=61;dependency_relation=aux>]>\\n<Token index=63;words=[<Word index=63;text=उस;lemma=वह;upos=DET;xpos=DEM;feats=Case=Acc|Number=Sing|Person=3|PronType=Dem;governor=64;dependency_relation=det>]>\\n<Token index=64;words=[<Word index=64;text=समय;lemma=समय;upos=NOUN;xpos=NN;feats=Case=Nom|Gender=Masc|Number=Sing|Person=3;governor=70;dependency_relation=obl>]>\\n<Token index=65;words=[<Word index=65;text=सुन्दर;lemma=सुन्दर;upos=ADJ;xpos=JJ;feats=Case=Acc;governor=67;dependency_relation=amod>]>\\n<Token index=66;words=[<Word index=66;text=';lemma=SINGLE_QUOTE;upos=PUNCT;xpos=SYM;feats=_;governor=67;dependency_relation=punct>]>\\n<Token index=67;words=[<Word index=67;text=सब;lemma=सब;upos=PRON;xpos=PRP;feats=Case=Nom|PronType=Prs;governor=70;dependency_relation=obl>]>\\n<Token index=68;words=[<Word index=68;text=ओर;lemma=ओर;upos=ADP;xpos=NST;feats=AdpType=Post|Case=Acc|Gender=Fem|Number=Sing|Person=3;governor=67;dependency_relation=case>]>\\n<Token index=69;words=[<Word index=69;text=से;lemma=से;upos=ADP;xpos=PSP;feats=AdpType=Post;governor=68;dependency_relation=case>]>\\n<Token index=70;words=[<Word index=70;text=सजे;lemma=सजे;upos=VERB;xpos=VM;feats=Aspect=Perf|Gender=Masc|Number=Plur|VerbForm=Part;governor=92;dependency_relation=advcl>]>\\n<Token index=71;words=[<Word index=71;text=हुए;lemma=हो;upos=AUX;xpos=VAUX;feats=Aspect=Perf|Gender=Masc|Number=Plur|VerbForm=Part;governor=70;dependency_relation=aux>]>\\n<Token index=72;words=[<Word index=72;text=श्वेत;lemma=श्वेत;upos=ADJ;xpos=JJ;feats=Case=Acc;governor=73;dependency_relation=amod>]>\\n<Token index=73;words=[<Word index=73;text=मेघ;lemma=मेघ;upos=NOUN;xpos=NN;feats=Case=Acc|Gender=Masc|Number=Sing|Person=3;governor=76;dependency_relation=nmod>]>\\n<Token index=74;words=[<Word index=74;text=के;lemma=का;upos=ADP;xpos=PSP;feats=AdpType=Post|Case=Acc|Gender=Masc|Number=Plur;governor=73;dependency_relation=case>]>\\n<Token index=75;words=[<Word index=75;text=तुल्य;lemma=तुल्य;upos=ADJ;xpos=JJ;feats=Case=Acc;governor=76;dependency_relation=amod>]>\\n<Token index=76;words=[<Word index=76;text=राक्षसों;lemma=राक्षस;upos=NOUN;xpos=NN;feats=Case=Acc|Gender=Masc|Number=Plur|Person=3;governor=79;dependency_relation=nmod>]>\\n<Token index=77;words=[<Word index=77;text=के;lemma=का;upos=ADP;xpos=PSP;feats=AdpType=Post|Case=Nom|Gender=Masc|Number=Sing;governor=76;dependency_relation=case>]>\\n<Token index=78;words=[<Word index=78;text=जो;lemma=जो;upos=DET;xpos=DEM;feats=Case=Nom|Number=Sing|Person=3|PronType=Dem;governor=79;dependency_relation=det>]>\\n<Token index=79;words=[<Word index=79;text=पद्माकार;lemma=पद्माकार;upos=NOUN;xpos=NN;feats=Case=Nom|Gender=Masc|Number=Sing|Person=3;governor=70;dependency_relation=conj>]>\\n<Token index=80;words=[<Word index=80;text=,;lemma=COMMA;upos=PUNCT;xpos=SYM;feats=_;governor=81;dependency_relation=punct>]>\\n<Token index=81;words=[<Word index=81;text=स्वस्तिकाकार;lemma=स्वस्तिकाकार;upos=NOUN;xpos=NN;feats=Case=Nom|Gender=Masc|Number=Sing|Person=3;governor=79;dependency_relation=conj>]>\\n<Token index=82;words=[<Word index=82;text=,;lemma=COMMA;upos=PUNCT;xpos=SYM;feats=_;governor=81;dependency_relation=punct>]>\\n<Token index=83;words=[<Word index=83;text=और;lemma=और;upos=CCONJ;xpos=CC;feats=_;governor=85;dependency_relation=cc>]>\\n<Token index=84;words=[<Word index=84;text=वर्धमान;lemma=वर्धमान;upos=NOUN;xpos=NNC;feats=Case=Nom|Gender=Masc|Number=Sing|Person=3;governor=85;dependency_relation=compound>]>\\n<Token index=85;words=[<Word index=85;text=घर;lemma=घर;upos=NOUN;xpos=NN;feats=Case=Nom|Gender=Masc|Number=Sing|Person=3;governor=79;dependency_relation=conj>]>\\n<Token index=86;words=[<Word index=86;text=है;lemma=है;upos=AUX;xpos=VM;feats=Mood=Ind|Number=Sing|Person=3|Tense=Pres|VerbForm=Fin|Voice=Act;governor=85;dependency_relation=cop>]>\\n<Token index=87;words=[<Word index=87;text=,;lemma=COMMA;upos=PUNCT;xpos=SYM;feats=_;governor=86;dependency_relation=punct>]>\\n<Token index=88;words=[<Word index=88;text=उन;lemma=वह;upos=PRON;xpos=PRP;feats=Case=Acc|Number=Plur|Person=3|PronType=Prs;governor=92;dependency_relation=obl>]>\\n<Token index=89;words=[<Word index=89;text=से;lemma=से;upos=ADP;xpos=PSP;feats=AdpType=Post;governor=88;dependency_relation=case>]>\\n<Token index=90;words=[<Word index=90;text=इंका;lemma=इंका;upos=PROPN;xpos=NNP;feats=Case=Nom|Gender=Masc|Number=Sing|Person=3;governor=92;dependency_relation=nsubj>]>\\n<Token index=91;words=[<Word index=91;text=जगमन.;lemma=जगमन.;upos=NOUN;xpos=NN;feats=Case=Nom|Gender=Masc|Number=Sing|Person=3;governor=92;dependency_relation=compound>]>\\n<Token index=92;words=[<Word index=92;text=कर;lemma=कर;upos=VERB;xpos=VM;feats=Gender=Fem|Number=Sing|Voice=Act;governor=0;dependency_relation=root>]>\\n<Token index=93;words=[<Word index=93;text=रही;lemma=रह;upos=AUX;xpos=VAUX;feats=Aspect=Perf|Gender=Fem|Number=Sing|VerbForm=Part;governor=92;dependency_relation=aux>]>\\n<Token index=94;words=[<Word index=94;text=थी;lemma=था;upos=AUX;xpos=VAUX;feats=Gender=Fem|Mood=Ind|Number=Sing|Tense=Past|VerbForm=Fin;governor=93;dependency_relation=aux:pass>]>\\n<Token index=95;words=[<Word index=95;text=,;lemma=COMMA;upos=PUNCT;xpos=SYM;feats=_;governor=92;dependency_relation=punct>]>\\n<Token index=96;words=[<Word index=96;text=राधा;lemma=राधा;upos=PROPN;xpos=NNP;feats=Case=Acc|Gender=Fem|Number=Sing|Person=3;governor=98;dependency_relation=nmod>]>\\n<Token index=97;words=[<Word index=97;text=के;lemma=का;upos=ADP;xpos=PSP;feats=AdpType=Post|Case=Acc|Gender=Masc|Number=Sing;governor=96;dependency_relation=case>]>\\n<Token index=98;words=[<Word index=98;text=अर्थ;lemma=अर्थ;upos=NOUN;xpos=NN;feats=Case=Acc|Gender=Masc|Number=Sing|Person=3;governor=104;dependency_relation=obl>]>\\n<Token index=99;words=[<Word index=99;text=वह;lemma=वह;upos=PRON;xpos=PRP;feats=Case=Nom|Number=Sing|Person=3|PronType=Prs;governor=104;dependency_relation=nsubj>]>\\n<Token index=100;words=[<Word index=100;text=श्रीमान्;lemma=श्रीमान्;upos=PROPN;xpos=NNP;feats=Case=Nom|Gender=Masc|Number=Sing|Person=3;governor=101;dependency_relation=obl>]>\\n<Token index=101;words=[<Word index=101;text=घूमता;lemma=घूम;upos=VERB;xpos=VM;feats=Aspect=Imp|Gender=Masc|Number=Sing|VerbForm=Part;governor=102;dependency_relation=acl>]>\\n<Token index=102;words=[<Word index=102;text=हुमा;lemma=हुमा;upos=PROPN;xpos=NNP;feats=Case=Nom|Gender=Masc|Number=Sing|Person=3;governor=104;dependency_relation=nsubj>]>\\n<Token index=103;words=[<Word index=103;text=उसे;lemma=वह;upos=PRON;xpos=PRP;feats=Case=Acc,Dat|Number=Sing|Person=3|PronType=Prs;governor=104;dependency_relation=obj>]>\\n<Token index=104;words=[<Word index=104;text=देखता;lemma=देख;upos=VERB;xpos=VM;feats=Aspect=Imp|Gender=Masc|Number=Sing|VerbForm=Part|Voice=Act;governor=92;dependency_relation=conj>]>\\n<Token index=105;words=[<Word index=105;text=भया;lemma=भया;upos=AUX;xpos=VAUX;feats=Gender=Masc|Number=Sing|VerbForm=Part;governor=104;dependency_relation=aux>]>\\n<Token index=106;words=[<Word index=106;text=और;lemma=और;upos=CCONJ;xpos=CC;feats=_;governor=108;dependency_relation=cc>]>\\n<Token index=107;words=[<Word index=107;text=आनन्दित;lemma=आनन्दित;upos=ADJ;xpos=JJ;feats=_;governor=108;dependency_relation=compound>]>\\n<Token index=108;words=[<Word index=108;text=होता;lemma=हो;upos=VERB;xpos=VM;feats=Aspect=Imp|Gender=Masc|Number=Sing|VerbForm=Part|Voice=Act;governor=104;dependency_relation=conj>]>\\n<Token index=109;words=[<Word index=109;text=भया;lemma=भया;upos=AUX;xpos=VAUX;feats=Gender=Masc|Number=Sing|VerbForm=Fin;governor=108;dependency_relation=aux>]>\\n<Token index=110;words=[<Word index=110;text=।;lemma=।;upos=PUNCT;xpos=SYM;feats=_;governor=92;dependency_relation=punct>]>\""
      ]
     },
     "execution_count": 123,
     "metadata": {},
     "output_type": "execute_result"
    }
   ],
   "source": [
    "text_pos.sentences[0].tokens_string()"
   ]
  },
  {
   "cell_type": "code",
   "execution_count": 24,
   "metadata": {},
   "outputs": [
    {
     "data": {
      "text/plain": [
       "' \\nवानर हनुमान सीमा के देखने की उत्कण्ठा येसूयास्त की प्रतीक्षा करता भया \\nघ४-९) सीता को रावण के भन्तापुर में ढूंढना : वह महावीर्य महान हृदय पाछा वानर श्रेष्ठ रात के समय अद्वार से कोट को फांद कर का में प्रविष्ट हृया \\nधानरराज के उस हितैषी ने लंका नगरी में प्रवेश करके मानों अपना बायां पाओं शत्रु के सिर पर रख दिया \\nउस समय सुन्दर \\'सब ओर से सजे हुए श्वेत मेघ के तुल्य राक्षसों के जो पद्माकार, स्वस्तिकाकार, और वर्धमान घर है, उन से इंका जगमन. कर रही थी, राधा के अर्थ वह श्रीमान् घूमता हुमा उसे देखता भया और आनन्दित होता भया ।। ३, ४ \\nएक भवन से दूसरे भवन को जाते हुए उस वानरश्रेष्ठ ने वहाँ र विविध भाकृति और रूपों वाले भवन देखे \\nवहाँ राक्षसों के घरों में उसने अप \"करते हुओं के मन्त्र मुने और स्वाध्याय में रत राक्षसों को देखा \\nराक्षसों के घर से घर और बगीचों को देखता हुआ बेधड़क यह महलों के पास घूमा \\nतव पवनपुत्र हनुमान ने यह भवन श्रेष्ठ देखा, जो राक्षसपति का भवन है, और बहुत महलों से भरपूर है \\nविशाल नेत्रोंवाली वैदेही सीता को ढूंढता हुआ शत्रुनों के मारनेवाला, हनुमान उसके चारों ओर घूमा ।। ९ \\nतब वह उस सुन्दर पड़ी माला की ओर मस्थित हुआ, जो उत्तम स्त्री की तरह रावण की बड़ी पारी थी \\nजिमकी सीदियों में माणेयां जड़ी हुई हैं, जो सोने के झरोकों से भूपित हैं, सङ्गमर्मर का फर्श है, और बीच २ में दान्त का काम किया हुआ है \\nजो सम, सीधे, बड़े कंचे पूरे २ मजे हुए स्तम्भों मे मानों आते ऊँचे पलों से छौ की ओर प्रस्थित हुई है \\nसोंचम गलीचा जिसमें पिछा हुआ है, राक्षों के अधिपति से सेवित है, मन को प्रसन्न करने वाली और शरीर की कान्ति को बढ़ाने वाली है।। १३ \\nदीपकों के प्रकाश से, रावण के तेज से, और भूषणों की चमक मे, पानों जलती हुई प्रतीत होती है। \\nउस शाला में देखते हुए इनुमान् ने रत्नों मे भाषेत एक दिव्य विलोरी शपनानन ( बैठने मोने का एला ) देखा \\nओर शराब पीकर बन्द हुए, श्रीद चमकते हुए पलङ्ग -. पर लेटे हुए राक्षसाधिपति को उस महारानर ने देखा \\nससके पास आकर बड़ा गीवन इा अत्यन्त डरे हुए की तरह पीछे-इट गया, और प्यारी खियों वाले उस राक्षसपति के घर. में बस वानर यूयपति ने चन्द्र तुल्य मुखवाली, सुन्दर कुण्डल पहने हुई, ताजे घुषषों की पालाएं और भूषणोंवाली पनियों को देसा \\nउन में से एकान्त स्थिव एक गुभ शय्या के ऊपर लेटी हुई रुपवती उम ने एक खो देखी \\nजो अपनी शोभा से मानों उस उत्तम भवन को शोभायमान करती थी, बद्द मन्दोदरी थी, जोकि सुन्दर रूपवती वहां लेटी हुई थी \\nमहाबाहु पवनसुत ने उस भूषित स्त्री को देखकर उमके रूप यौवन की सम्पदा से रूपाल किया, कि कदाचित यह सीता हो \\nय०१०-११) राधण के अन्तःपुर में सीता का न पाना पर उसी समय उस रूपाळ को पटाकर, स्थित हुा महा . घानर सीता के विषय भरा विचार करता भया \\nकि राम से वियुक्त हुई वह मुन्दरीन सो सक्ती है, न भोग रती है, न अलङ्कार कर सक्ती है, न पान सेवन कर सक्ती है \\nनि:सन्देह यह कोई और है, ऐसा'"
      ]
     },
     "execution_count": 24,
     "metadata": {},
     "output_type": "execute_result"
    }
   ],
   "source": [
    "str_text[0:2500]"
   ]
  },
  {
   "cell_type": "code",
   "execution_count": 59,
   "metadata": {},
   "outputs": [
    {
     "data": {
      "text/plain": [
       "\"घ४-९) सीता को रावण के भन्तापुर में ढूंढना : वह महावीर्य महान हृदय पाछा वानर श्रेष्ठ रात के समय अद्वार से कोट को फांद कर का में प्रविष्ट हृया \\nउस समय सुन्दर 'सब ओर से सजे हुए श्वेत मेघ के तुल्य राक्षसों के जो पद्माकार, स्वस्तिकाकार, और वर्धमान घर है, उन से इंका जगमन.\\nराक्षसों के घर से घर और बगीचों को देखता हुआ बेधड़क यह महलों के पास घूमा \\nतब वह उस सुन्दर पड़ी माला की ओर मस्थित हुआ, जो उत्तम स्त्री की तरह रावण की बड़ी पारी थी \\nमें बस वानर यूयपति ने चन्द्र तुल्य मुखवाली, सुन्दर कुण्डल पहने हुई, ताजे घुषषों की पालाएं और भूषणोंवाली पनियों को देसा \""
      ]
     },
     "execution_count": 59,
     "metadata": {},
     "output_type": "execute_result"
    }
   ],
   "source": [
    "summarize(str_text[0:2500])"
   ]
  },
  {
   "cell_type": "code",
   "execution_count": 26,
   "metadata": {},
   "outputs": [],
   "source": [
    "#https://github.com/USC-NLP-17/hindiTextExtraction\n",
    "\n",
    "import networkx as nx\n",
    "import numpy as np\n",
    "import math\n",
    "import re\n",
    "\n",
    "from nltk.tokenize.punkt import PunktSentenceTokenizer\n",
    "from sklearn.feature_extraction.text import TfidfTransformer, CountVectorizer"
   ]
  },
  {
   "cell_type": "code",
   "execution_count": 135,
   "metadata": {},
   "outputs": [],
   "source": [
    "def textrankTfIdf(document):\n",
    "    # sentence_tokenizer = PunktSentenceTokenizer()\n",
    "    # sentences = sentence_tokenizer.tokenize(document, 'hindi')\n",
    "\n",
    "    sentences = document\n",
    "    bow_matrix = CountVectorizer().fit_transform(sentences)\n",
    "    # normalized = TfidfTransformer(norm='l2', use_idf=True, use_bm25idf=True, smooth_idf=True,\n",
    "    #              delta_idf=False, sublinear_tf=False, bm25_tf=True).fit_transform(bow_matrix)\n",
    "\n",
    "    normalized = TfidfTransformer().fit_transform(bow_matrix)\n",
    "    similarity_graph = normalized * normalized.T\n",
    "\n",
    "    nx_graph = nx.from_scipy_sparse_matrix(similarity_graph)\n",
    "    scores = nx.pagerank(nx_graph)\n",
    "    return sorted(((scores[i], s) for i, s in enumerate(sentences)),\n",
    "                  reverse=True)"
   ]
  },
  {
   "cell_type": "code",
   "execution_count": 162,
   "metadata": {},
   "outputs": [],
   "source": [
    "def orderSentences(rankedList, data, initSentences):\n",
    "    index = ['']*len(data)\n",
    "    # print(rankedList)\n",
    "    for eachRanked in rankedList[0:int(math.ceil(0.05*len(rankedList)))]:\n",
    "        sen = eachRanked[1]\n",
    "        index[data.index(sen)] = initSentences[data.index(sen)]\n",
    "        # print(data.index(sen))\n",
    "    return index"
   ]
  },
  {
   "cell_type": "code",
   "execution_count": 163,
   "metadata": {},
   "outputs": [],
   "source": [
    "rankedSentences = textrankTfIdf(text_sentence[0:25])\n",
    "orderedsentences = orderSentences(rankedSentences, text_sentence[0:25], text_sentence[0:25])"
   ]
  },
  {
   "cell_type": "code",
   "execution_count": 164,
   "metadata": {},
   "outputs": [
    {
     "data": {
      "text/plain": [
       "['',\n",
       " '',\n",
       " '',\n",
       " \" उस समय सुन्दर 'सब ओर से सजे हुए श्वेत मेघ के तुल्य राक्षसों के जो पद्माकार, स्वस्तिकाकार, और वर्धमान घर है, उन से इंका जगमन. कर रही थी, राधा के अर्थ वह श्रीमान् घूमता हुमा उसे देखता भया और आनन्दित होता भया ।। ३, ४ \",\n",
       " '',\n",
       " '',\n",
       " '',\n",
       " '',\n",
       " '',\n",
       " '',\n",
       " '',\n",
       " '',\n",
       " '',\n",
       " '',\n",
       " '',\n",
       " '',\n",
       " '',\n",
       " '',\n",
       " ' जो अपनी शोभा से मानों उस उत्तम भवन को शोभायमान करती थी, बद्द मन्दोदरी थी, जोकि सुन्दर रूपवती वहां लेटी हुई थी ',\n",
       " '',\n",
       " '',\n",
       " '',\n",
       " '',\n",
       " '',\n",
       " '']"
      ]
     },
     "execution_count": 164,
     "metadata": {},
     "output_type": "execute_result"
    }
   ],
   "source": [
    "orderedsentences"
   ]
  },
  {
   "cell_type": "code",
   "execution_count": 165,
   "metadata": {},
   "outputs": [
    {
     "name": "stdout",
     "output_type": "stream",
     "text": [
      " उस समय सुन्दर 'सब ओर से सजे हुए श्वेत मेघ के तुल्य राक्षसों के जो पद्माकार, स्वस्तिकाकार, और वर्धमान घर है, उन से इंका जगमन. कर रही थी, राधा के अर्थ वह श्रीमान् घूमता हुमा उसे देखता भया और आनन्दित होता भया ।। ३, ४ \n",
      " जो अपनी शोभा से मानों उस उत्तम भवन को शोभायमान करती थी, बद्द मन्दोदरी थी, जोकि सुन्दर रूपवती वहां लेटी हुई थी \n"
     ]
    }
   ],
   "source": [
    "for ordered in orderedsentences:\n",
    "    if ordered != \"\":\n",
    "        print(ordered)\n",
    "        #print(rankedSentencesDoc.write(str(ordered) + u'\\u0964' + \"\\n\"))"
   ]
  },
  {
   "cell_type": "code",
   "execution_count": 30,
   "metadata": {},
   "outputs": [
    {
     "name": "stdout",
     "output_type": "stream",
     "text": [
      " उस समय सुन्दर 'सब ओर से सजे हुए श्वेत मेघ के तुल्य राक्षसों के जो पद्माकार, स्वस्तिकाकार, और वर्धमान घर है, उन से इंका जगमन. कर रही थी, राधा के अर्थ वह श्रीमान् घूमता हुमा उसे देखता भया और आनन्दित होता भया ।। ३, ४ \n",
      " एक भवन से दूसरे भवन को जाते हुए उस वानरश्रेष्ठ ने वहाँ र विविध भाकृति और रूपों वाले भवन देखे \n",
      " वहाँ राक्षसों के घरों में उसने अप \"करते हुओं के मन्त्र मुने और स्वाध्याय में रत राक्षसों को देखा \n",
      " तब वह उस सुन्दर पड़ी माला की ओर मस्थित हुआ, जो उत्तम स्त्री की तरह रावण की बड़ी पारी थी \n",
      " ओर शराब पीकर बन्द हुए, श्रीद चमकते हुए पलङ्ग -. पर लेटे हुए राक्षसाधिपति को उस महारानर ने देखा \n",
      " जो अपनी शोभा से मानों उस उत्तम भवन को शोभायमान करती थी, बद्द मन्दोदरी थी, जोकि सुन्दर रूपवती वहां लेटी हुई थी \n",
      " य०१०-११) राधण के अन्तःपुर में सीता का न पाना पर उसी समय उस रूपाळ को पटाकर, स्थित हुा महा . घानर सीता के विषय भरा विचार करता भया \n",
      " नि:सन्देह यह कोई और है, ऐसा निश्चय करके फिर वह विचरने लगा, \" इसमकार रावण का सारा अन्तःपुर( रनिवास ) उस महातेजस्वी वानर ने पूरी तरह देखा, पर जानकी को नहीं देखा \n"
     ]
    }
   ],
   "source": [
    "for ordered in orderedsentences:\n",
    "    if ordered != \"\":\n",
    "        print(ordered)\n",
    "        #print(rankedSentencesDoc.write(str(ordered) + u'\\u0964' + \"\\n\"))"
   ]
  },
  {
   "cell_type": "code",
   "execution_count": 31,
   "metadata": {
    "collapsed": true
   },
   "outputs": [
    {
     "data": {
      "text/plain": [
       "[' वानर हनुमान सीमा के देखने की उत्कण्ठा येसूयास्त की प्रतीक्षा करता भया ',\n",
       " ' घ४-९) सीता को रावण के भन्तापुर में ढूंढना : वह महावीर्य महान हृदय पाछा वानर श्रेष्ठ रात के समय अद्वार से कोट को फांद कर का में प्रविष्ट हृया ',\n",
       " 'धानरराज के उस हितैषी ने लंका नगरी में प्रवेश करके मानों अपना बायां पाओं शत्रु के सिर पर रख दिया ',\n",
       " \" उस समय सुन्दर 'सब ओर से सजे हुए श्वेत मेघ के तुल्य राक्षसों के जो पद्माकार, स्वस्तिकाकार, और वर्धमान घर है, उन से इंका जगमन. कर रही थी, राधा के अर्थ वह श्रीमान् घूमता हुमा उसे देखता भया और आनन्दित होता भया ।। ३, ४ \",\n",
       " ' एक भवन से दूसरे भवन को जाते हुए उस वानरश्रेष्ठ ने वहाँ र विविध भाकृति और रूपों वाले भवन देखे ',\n",
       " ' वहाँ राक्षसों के घरों में उसने अप \"करते हुओं के मन्त्र मुने और स्वाध्याय में रत राक्षसों को देखा ',\n",
       " ' राक्षसों के घर से घर और बगीचों को देखता हुआ बेधड़क यह महलों के पास घूमा ',\n",
       " ' तव पवनपुत्र हनुमान ने यह भवन श्रेष्ठ देखा, जो राक्षसपति का भवन है, और बहुत महलों से भरपूर है',\n",
       " ' विशाल नेत्रोंवाली वैदेही सीता को ढूंढता हुआ शत्रुनों के मारनेवाला, हनुमान उसके चारों ओर घूमा ।। ९ ',\n",
       " ' तब वह उस सुन्दर पड़ी माला की ओर मस्थित हुआ, जो उत्तम स्त्री की तरह रावण की बड़ी पारी थी ',\n",
       " ' जिमकी सीदियों में माणेयां जड़ी हुई हैं, जो सोने के झरोकों से भूपित हैं, सङ्गमर्मर का फर्श है, और बीच २ में दान्त का काम किया हुआ है',\n",
       " ' जो सम, सीधे, बड़े कंचे पूरे २ मजे हुए स्तम्भों मे मानों आते ऊँचे पलों से छौ की ओर प्रस्थित हुई है ',\n",
       " ' सोंचम गलीचा जिसमें पिछा हुआ है, राक्षों के अधिपति से सेवित है, मन को प्रसन्न करने वाली और शरीर की कान्ति को बढ़ाने वाली है।। १३ ',\n",
       " ' दीपकों के प्रकाश से, रावण के तेज से, और भूषणों की चमक मे, पानों जलती हुई प्रतीत होती है।',\n",
       " ' उस शाला में देखते हुए इनुमान् ने रत्नों मे भाषेत एक दिव्य विलोरी शपनानन ( बैठने मोने का एला ) देखा ',\n",
       " ' ओर शराब पीकर बन्द हुए, श्रीद चमकते हुए पलङ्ग -. पर लेटे हुए राक्षसाधिपति को उस महारानर ने देखा ',\n",
       " ' ससके पास आकर बड़ा गीवन इा अत्यन्त डरे हुए की तरह पीछे-इट गया, और प्यारी खियों वाले उस राक्षसपति के घर. में बस वानर यूयपति ने चन्द्र तुल्य मुखवाली, सुन्दर कुण्डल पहने हुई, ताजे घुषषों की पालाएं और भूषणोंवाली पनियों को देसा ',\n",
       " ' उन में से एकान्त स्थिव एक गुभ शय्या के ऊपर लेटी हुई रुपवती उम ने एक खो देखी ',\n",
       " ' जो अपनी शोभा से मानों उस उत्तम भवन को शोभायमान करती थी, बद्द मन्दोदरी थी, जोकि सुन्दर रूपवती वहां लेटी हुई थी ',\n",
       " ' महाबाहु पवनसुत ने उस भूषित स्त्री को देखकर उमके रूप यौवन की सम्पदा से रूपाल किया, कि कदाचित यह सीता हो ',\n",
       " ' य०१०-११) राधण के अन्तःपुर में सीता का न पाना पर उसी समय उस रूपाळ को पटाकर, स्थित हुा महा . घानर सीता के विषय भरा विचार करता भया ',\n",
       " 'कि राम से वियुक्त हुई वह मुन्दरीन सो सक्ती है, न भोग रती है, न अलङ्कार कर सक्ती है, न पान सेवन कर सक्ती है ',\n",
       " ' नि:सन्देह यह कोई और है, ऐसा निश्चय करके फिर वह विचरने लगा, \" इसमकार रावण का सारा अन्तःपुर( रनिवास ) उस महातेजस्वी वानर ने पूरी तरह देखा, पर जानकी को नहीं देखा ',\n",
       " ' उन स्त्रियों को देखते हुए, वर्ग भय से भीत हुए, उस पहावानर को षड़ी शङ्का उत्पन्न हुई',\n",
       " ' सोई हुई कुलीन परस्त्री को देखना, यह मेरा अत्यन्त घपलोप करेगा ']"
      ]
     },
     "execution_count": 31,
     "metadata": {},
     "output_type": "execute_result"
    }
   ],
   "source": [
    "text_sentence[0:25]"
   ]
  },
  {
   "cell_type": "code",
   "execution_count": 36,
   "metadata": {},
   "outputs": [],
   "source": [
    "def lemmatization(text):\n",
    "    lemmatized_text = []\n",
    "    for line in tqdm(text):\n",
    "        if line not in [\"\",\" \"] :\n",
    "            doc = nlp(line)\n",
    "            for sent in doc.sentences:\n",
    "                for wrd in sent.words:\n",
    "                    #extract text and lemma\n",
    "                    lemmatized_text.append(wrd.lemma)\n",
    "    return lemmatized_text"
   ]
  },
  {
   "cell_type": "code",
   "execution_count": 37,
   "metadata": {},
   "outputs": [
    {
     "name": "stderr",
     "output_type": "stream",
     "text": [
      "100%|██████████| 25/25 [00:02<00:00, 10.28it/s]\n"
     ]
    }
   ],
   "source": [
    "lemmatized = lemmatization(text_sentence[0:25])"
   ]
  },
  {
   "cell_type": "code",
   "execution_count": 126,
   "metadata": {},
   "outputs": [
    {
     "data": {
      "text/plain": [
       "['वानर', 'हनुमान', 'सीमा', 'का', 'देख', 'का', 'उत्कण्ठा']"
      ]
     },
     "execution_count": 126,
     "metadata": {},
     "output_type": "execute_result"
    }
   ],
   "source": [
    "lemmatized[0:7]"
   ]
  },
  {
   "cell_type": "code",
   "execution_count": 39,
   "metadata": {},
   "outputs": [],
   "source": [
    "def remove_stopwords(word_tokenized,stop_words):\n",
    "    return [word for word in word_tokenized if word not in stop_words]"
   ]
  },
  {
   "cell_type": "code",
   "execution_count": 40,
   "metadata": {},
   "outputs": [
    {
     "data": {
      "text/plain": [
       "(281, 612)"
      ]
     },
     "execution_count": 40,
     "metadata": {},
     "output_type": "execute_result"
    }
   ],
   "source": [
    "clean_text = remove_stopwords(lemmatized,stop_words)\n",
    "len(clean_text),len(lemmatized)"
   ]
  },
  {
   "cell_type": "code",
   "execution_count": 42,
   "metadata": {},
   "outputs": [
    {
     "data": {
      "text/plain": [
       "['वानर', 'हनुमान', 'सीमा', 'उत्कण्ठा', 'येसूयास्त']"
      ]
     },
     "execution_count": 42,
     "metadata": {},
     "output_type": "execute_result"
    }
   ],
   "source": [
    "clean_text[0:5]"
   ]
  },
  {
   "cell_type": "code",
   "execution_count": 47,
   "metadata": {},
   "outputs": [
    {
     "name": "stdout",
     "output_type": "stream",
     "text": [
      "['वानर', 'हनुमान', 'सीमा', 'उत्कण्ठा', 'येसूयास्त', 'प्रतीक्षा', 'भया', 'घ४९', 'सीता', 'रावण', 'भन्तापुर', 'ढूँढ', '', 'महावीर्य', 'महान', 'हृदय', 'पाछ', 'वानर', 'श्रेष्ठ', 'रात', 'अद्वार', 'कोट', 'फांद', 'प्रविष्ट', 'हृ']\n",
      "281 281\n"
     ]
    }
   ],
   "source": [
    "# remove punctuation from each word\n",
    "table = str.maketrans('', '', string.punctuation)\n",
    "stripped = [w.translate(table) for w in clean_text]\n",
    "print(stripped[:25])\n",
    "print(len(clean_text),len(stripped))"
   ]
  },
  {
   "cell_type": "code",
   "execution_count": 48,
   "metadata": {},
   "outputs": [],
   "source": [
    "def custom_remove_garbage(original_words_list,list_of_garbage_words):\n",
    "    tmp_list = [word for word in original_words_list if word not in list_of_garbage_words] # garbage list\n",
    "    tmp_list = [word for word in tmp_list if len(re.findall(\"\\d+\",word))==0] # english numbers\n",
    "    tmp_list = [word for word in tmp_list if len(re.findall(\"[a-zA-Z]+\",word))==0] # english alphabets\n",
    "    return tmp_list"
   ]
  },
  {
   "cell_type": "code",
   "execution_count": 49,
   "metadata": {},
   "outputs": [
    {
     "data": {
      "text/plain": [
       "19"
      ]
     },
     "execution_count": 49,
     "metadata": {},
     "output_type": "execute_result"
    }
   ],
   "source": [
    "clean_text == stripped\n",
    "\n",
    "# Python code to get difference of two lists \n",
    "# Not using set() \n",
    "def Diff(li1, li2): \n",
    "    li_dif = [i for i in li1 + li2 if i not in li1 or i not in li2] \n",
    "    return li_dif \n",
    "\n",
    "resultant = Diff(clean_text,stripped)\n",
    "len(set(resultant))"
   ]
  },
  {
   "cell_type": "code",
   "execution_count": 50,
   "metadata": {
    "collapsed": true
   },
   "outputs": [
    {
     "data": {
      "text/plain": [
       "['घ४-९',\n",
       " ':',\n",
       " 'SINGLE_QUOTE',\n",
       " 'जगमन.',\n",
       " '-.',\n",
       " 'पीछे-इट',\n",
       " 'घर.',\n",
       " 'य०१०-११',\n",
       " '.',\n",
       " 'नि:सन्देह',\n",
       " 'अन्तःपुर(',\n",
       " 'घ४९',\n",
       " '',\n",
       " 'SINGLEQUOTE',\n",
       " 'जगमन',\n",
       " '',\n",
       " 'पीछेइट',\n",
       " 'घर',\n",
       " 'य०१०११',\n",
       " '',\n",
       " 'निसन्देह']"
      ]
     },
     "execution_count": 50,
     "metadata": {},
     "output_type": "execute_result"
    }
   ],
   "source": [
    "resultant"
   ]
  },
  {
   "cell_type": "code",
   "execution_count": 51,
   "metadata": {},
   "outputs": [
    {
     "data": {
      "text/plain": [
       "265"
      ]
     },
     "execution_count": 51,
     "metadata": {},
     "output_type": "execute_result"
    }
   ],
   "source": [
    "final_text = custom_remove_garbage(stripped,resultant)\n",
    "len(final_text)"
   ]
  },
  {
   "cell_type": "code",
   "execution_count": 52,
   "metadata": {},
   "outputs": [
    {
     "data": {
      "text/plain": [
       "['वानर', 'हनुमान', 'सीमा', 'उत्कण्ठा', 'येसूयास्त']"
      ]
     },
     "execution_count": 52,
     "metadata": {},
     "output_type": "execute_result"
    }
   ],
   "source": [
    "final_text[0:5]"
   ]
  },
  {
   "cell_type": "code",
   "execution_count": 43,
   "metadata": {},
   "outputs": [
    {
     "name": "stdout",
     "output_type": "stream",
     "text": [
      ".\n"
     ]
    }
   ],
   "source": [
    "# Create the Dictionary and Corpus needed for Topic Modeling\n",
    "# The two main inputs to the LDA topic model are the dictionary(id2word) and the corpus.\n",
    "\n",
    "# Create Dictionary\n",
    "id2word = corpora.Dictionary([clean_text])\n",
    "\n",
    "# Create Corpus\n",
    "texts = clean_text\n",
    "\n",
    "# Term Document Frequency\n",
    "corpus = [id2word.doc2bow(texts)] #for text in texts]\n",
    "\n",
    "# Gensim creates a unique id for each word in the document. The produced corpus shown above is a mapping of \n",
    "# (word_id, word_frequency).\n",
    "# For example, (0, 1) above implies, word id 0 occurs once in the first document. Likewise, word id 1 occurs twice and so on.\n",
    "\n",
    "# View\n",
    "# print(corpus[:1])\n",
    "print(id2word[1]) # word a given id corresponds to"
   ]
  },
  {
   "cell_type": "code",
   "execution_count": 44,
   "metadata": {
    "collapsed": true
   },
   "outputs": [
    {
     "data": {
      "text/plain": [
       "[[('-.', 1),\n",
       "  ('.', 1),\n",
       "  (':', 1),\n",
       "  ('SINGLE_QUOTE', 1),\n",
       "  ('अत्यन्त', 2),\n",
       "  ('अद्वार', 1),\n",
       "  ('अधिपति', 1),\n",
       "  ('अन्तःपुर', 1),\n",
       "  ('अन्तःपुर(', 1),\n",
       "  ('अप', 1),\n",
       "  ('अर्थ', 1),\n",
       "  ('अलङ्कार', 1),\n",
       "  ('आनन्दित', 1),\n",
       "  ('इंका', 1),\n",
       "  ('इनुमान्', 1),\n",
       "  ('इसमकार', 1),\n",
       "  ('इा', 1),\n",
       "  ('उत्कण्ठा', 1),\n",
       "  ('उत्तम', 2),\n",
       "  ('उत्पन्न', 1),\n",
       "  ('उम', 1),\n",
       "  ('उमक', 1),\n",
       "  ('ऊँचा', 1),\n",
       "  ('एकान्त', 1),\n",
       "  ('एला', 1),\n",
       "  ('कंचा', 1),\n",
       "  ('कदाचित', 1),\n",
       "  ('कान्ति', 1),\n",
       "  ('काम', 1),\n",
       "  ('कुण्डल', 1),\n",
       "  ('कुलीन', 1),\n",
       "  ('कोट', 1),\n",
       "  ('खिय', 1),\n",
       "  ('खो', 1),\n",
       "  ('गलीचा', 1),\n",
       "  ('गीवन', 1),\n",
       "  ('गुभ', 1),\n",
       "  ('घपलोप', 1),\n",
       "  ('घर.', 1),\n",
       "  ('घानर', 1),\n",
       "  ('घुषष', 1),\n",
       "  ('घूम', 1),\n",
       "  ('घूमा', 2),\n",
       "  ('घ४-९', 1),\n",
       "  ('चन्द्र', 1),\n",
       "  ('चमक', 2),\n",
       "  ('चार', 1),\n",
       "  ('छौ', 1),\n",
       "  ('जगमन.', 1),\n",
       "  ('जड़', 1),\n",
       "  ('जल', 1),\n",
       "  ('जानकी', 1),\n",
       "  ('जिमकी', 1),\n",
       "  ('जोकि', 1),\n",
       "  ('झरोक', 1),\n",
       "  ('डर', 1),\n",
       "  ('ढूँढ', 1),\n",
       "  ('ढूँढता', 1),\n",
       "  ('तव', 1),\n",
       "  ('ताजा', 1),\n",
       "  ('तुल्य', 2),\n",
       "  ('तेज', 1),\n",
       "  ('दान्त', 1),\n",
       "  ('दिव्य', 1),\n",
       "  ('दीपक', 1),\n",
       "  ('देसा', 1),\n",
       "  ('धानरराज', 1),\n",
       "  ('नगरी', 1),\n",
       "  ('नि:सन्देह', 1),\n",
       "  ('निश्चय', 1),\n",
       "  ('नेत्रोंवाली', 1),\n",
       "  ('पटा', 1),\n",
       "  ('पड', 1),\n",
       "  ('पद्माकार', 1),\n",
       "  ('पनि', 1),\n",
       "  ('परस्त्री', 1),\n",
       "  ('पल', 1),\n",
       "  ('पलङ्ग', 1),\n",
       "  ('पवनपुत्र', 1),\n",
       "  ('पवनसुत', 1),\n",
       "  ('पहन', 1),\n",
       "  ('पहावानर', 1),\n",
       "  ('पा', 2),\n",
       "  ('पाछ', 1),\n",
       "  ('पान', 2),\n",
       "  ('पारी', 1),\n",
       "  ('पाला', 1),\n",
       "  ('पास', 2),\n",
       "  ('पिछ', 1),\n",
       "  ('पीकर', 1),\n",
       "  ('पीछे-इट', 1),\n",
       "  ('प्यारा', 1),\n",
       "  ('प्रकाश', 1),\n",
       "  ('प्रतीक्षा', 1),\n",
       "  ('प्रतीत', 1),\n",
       "  ('प्रविष्ट', 1),\n",
       "  ('प्रवेश', 1),\n",
       "  ('प्रसन्न', 1),\n",
       "  ('प्रस्थित', 1),\n",
       "  ('फर्श', 1),\n",
       "  ('फांद', 1),\n",
       "  ('बगीच', 1),\n",
       "  ('बडा', 2),\n",
       "  ('बढा', 1),\n",
       "  ('बद्द', 1),\n",
       "  ('बस', 1),\n",
       "  ('बायां', 1),\n",
       "  ('बेधड़क', 1),\n",
       "  ('बैठ', 1),\n",
       "  ('भन्तापुर', 1),\n",
       "  ('भय', 1),\n",
       "  ('भया', 4),\n",
       "  ('भर', 1),\n",
       "  ('भरपूर', 1),\n",
       "  ('भवन', 6),\n",
       "  ('भाकृति', 1),\n",
       "  ('भाषेत', 1),\n",
       "  ('भीत', 1),\n",
       "  ('भूपित', 1),\n",
       "  ('भूषण', 1),\n",
       "  ('भूषणोंवाली', 1),\n",
       "  ('भूषित', 1),\n",
       "  ('भोग', 1),\n",
       "  ('मजा', 1),\n",
       "  ('मन', 1),\n",
       "  ('मन्त्र', 1),\n",
       "  ('मन्दोदरी', 1),\n",
       "  ('मस्थित', 1),\n",
       "  ('महल', 2),\n",
       "  ('महा', 1),\n",
       "  ('महातेजस्वी', 1),\n",
       "  ('महान', 1),\n",
       "  ('महाबाहु', 1),\n",
       "  ('महारानर', 1),\n",
       "  ('महावीर्य', 1),\n",
       "  ('मा', 3),\n",
       "  ('माणेयां', 1),\n",
       "  ('मान', 3),\n",
       "  ('मारनेवाला', 1),\n",
       "  ('माला', 1),\n",
       "  ('मुखवाली', 1),\n",
       "  ('मुना', 1),\n",
       "  ('मुन्दरीन', 1),\n",
       "  ('मेघ', 1),\n",
       "  ('मो', 1),\n",
       "  ('यूयपति', 1),\n",
       "  ('येसूयास्त', 1),\n",
       "  ('यौवन', 1),\n",
       "  ('य०१०-११', 1),\n",
       "  ('र', 1),\n",
       "  ('रख', 1),\n",
       "  ('रत', 2),\n",
       "  ('रत्न', 1),\n",
       "  ('रनिवास', 1),\n",
       "  ('राक्ष', 1),\n",
       "  ('राक्षस', 4),\n",
       "  ('राक्षसपति', 2),\n",
       "  ('राक्षसाधिपति', 1),\n",
       "  ('रात', 1),\n",
       "  ('राधण', 1),\n",
       "  ('राधा', 1),\n",
       "  ('राम', 1),\n",
       "  ('रावण', 4),\n",
       "  ('रुपवती', 1),\n",
       "  ('रूप', 2),\n",
       "  ('रूपवती', 1),\n",
       "  ('रूपाल', 1),\n",
       "  ('रूपाळ', 1),\n",
       "  ('लंका', 1),\n",
       "  ('लेट', 1),\n",
       "  ('लेटी', 2),\n",
       "  ('वर्धमान', 1),\n",
       "  ('वानर', 4),\n",
       "  ('वानरश्रेष्ठ', 1),\n",
       "  ('विचर', 1),\n",
       "  ('विचार', 1),\n",
       "  ('वियुक्त', 1),\n",
       "  ('विलोरी', 1),\n",
       "  ('विविध', 1),\n",
       "  ('विशाल', 1),\n",
       "  ('विषय', 1),\n",
       "  ('वैदेही', 1),\n",
       "  ('शङ्का', 1),\n",
       "  ('शत्रु', 1),\n",
       "  ('शत्रुन', 1),\n",
       "  ('शपनानन', 1),\n",
       "  ('शय्या', 1),\n",
       "  ('शराब', 1),\n",
       "  ('शरीर', 1),\n",
       "  ('शाला', 1),\n",
       "  ('शोभा', 1),\n",
       "  ('शोभायमान', 1),\n",
       "  ('श्रीद', 1),\n",
       "  ('श्रीमान्', 1),\n",
       "  ('श्रेष्ठ', 2),\n",
       "  ('श्वेत', 1),\n",
       "  ('षड़', 1),\n",
       "  ('संगमर्मर', 1),\n",
       "  ('सक्ती', 3),\n",
       "  ('सजे', 1),\n",
       "  ('सब', 1),\n",
       "  ('सम', 1),\n",
       "  ('सम्पदा', 1),\n",
       "  ('सस', 1),\n",
       "  ('सिर', 1),\n",
       "  ('सीता', 5),\n",
       "  ('सीदी', 1),\n",
       "  ('सीधा', 1),\n",
       "  ('सीमा', 1),\n",
       "  ('सुन्दर', 4),\n",
       "  ('सेवन', 1),\n",
       "  ('सेवित', 1),\n",
       "  ('सोंचम', 1),\n",
       "  ('सोना', 1),\n",
       "  ('स्तंभ', 1),\n",
       "  ('स्त्री', 3),\n",
       "  ('स्थित', 1),\n",
       "  ('स्थिव', 1),\n",
       "  ('स्वस्तिकाकार', 1),\n",
       "  ('स्वाध्याय', 1),\n",
       "  ('हनुमान', 3),\n",
       "  ('हितैषी', 1),\n",
       "  ('हुमा', 1),\n",
       "  ('हृ', 1),\n",
       "  ('हृदय', 1),\n",
       "  ('है।', 1),\n",
       "  ('१३', 1),\n",
       "  ('२', 2),\n",
       "  ('३', 1),\n",
       "  ('४', 1),\n",
       "  ('९', 1)]]"
      ]
     },
     "execution_count": 44,
     "metadata": {},
     "output_type": "execute_result"
    }
   ],
   "source": [
    "# Human readable format of corpus (term-frequency)\n",
    "[[(id2word[id], freq) for id, freq in cp] for cp in corpus[:1]]"
   ]
  },
  {
   "cell_type": "code",
   "execution_count": 45,
   "metadata": {},
   "outputs": [],
   "source": [
    "# Build LDA model\n",
    "\n",
    "lda_model = gensim.models.ldamodel.LdaModel(corpus=corpus,\n",
    "                                           id2word=id2word,\n",
    "                                           num_topics=3, \n",
    "                                           random_state=100,\n",
    "                                           update_every=10,\n",
    "                                           chunksize=100,\n",
    "                                           passes=20,\n",
    "                                           alpha='auto',\n",
    "                                           per_word_topics=True)"
   ]
  },
  {
   "cell_type": "code",
   "execution_count": 46,
   "metadata": {},
   "outputs": [
    {
     "name": "stdout",
     "output_type": "stream",
     "text": [
      "[(0,\n",
      "  '0.018*\"भवन\" + 0.015*\"सीता\" + 0.012*\"सुन्दर\" + 0.012*\"रावण\" + 0.012*\"राक्षस\" '\n",
      "  '+ 0.012*\"भया\" + 0.012*\"वानर\" + 0.009*\"स्त्री\" + 0.009*\"मा\" + 0.009*\"सक्ती\"'),\n",
      " (1,\n",
      "  '0.004*\"भवन\" + 0.004*\"सीता\" + 0.004*\"वानर\" + 0.004*\"भया\" + 0.004*\"रावण\" + '\n",
      "  '0.004*\"राक्षस\" + 0.004*\"मा\" + 0.004*\"मान\" + 0.004*\"सुन्दर\" + 0.004*\"सक्ती\"'),\n",
      " (2,\n",
      "  '0.004*\"भवन\" + 0.004*\"वानर\" + 0.004*\"भया\" + 0.004*\"हनुमान\" + 0.004*\"सीता\" + '\n",
      "  '0.004*\"सुन्दर\" + 0.004*\"स्त्री\" + 0.004*\"राक्षस\" + 0.004*\"रावण\" + '\n",
      "  '0.004*\"मान\"')]\n"
     ]
    }
   ],
   "source": [
    "# Print the Keyword in the 10 topics\n",
    "# It means the top 10 keywords that contribute to this topic are: ‘hockey’, ‘pts_pt’, ‘pit’.. and \n",
    "# so on and the weight of ‘hockey’ on topic 0 is 0.044.\n",
    "\n",
    "pprint(lda_model.print_topics())\n",
    "doc_lda = lda_model[corpus]"
   ]
  },
  {
   "cell_type": "code",
   "execution_count": 53,
   "metadata": {},
   "outputs": [
    {
     "name": "stdout",
     "output_type": "stream",
     "text": [
      "अद्वार\n"
     ]
    }
   ],
   "source": [
    "# Create the Dictionary and Corpus needed for Topic Modeling\n",
    "# The two main inputs to the LDA topic model are the dictionary(id2word) and the corpus.\n",
    "\n",
    "# Create Dictionary\n",
    "id2word = corpora.Dictionary([final_text])\n",
    "\n",
    "# Create Corpus\n",
    "texts = final_text\n",
    "\n",
    "# Term Document Frequency\n",
    "corpus = [id2word.doc2bow(texts)] #for text in texts]\n",
    "\n",
    "# Gensim creates a unique id for each word in the document. The produced corpus shown above is a mapping of \n",
    "# (word_id, word_frequency).\n",
    "# For example, (0, 1) above implies, word id 0 occurs once in the first document. Likewise, word id 1 occurs twice and so on.\n",
    "\n",
    "# View\n",
    "# print(corpus[:1])\n",
    "print(id2word[1]) # word a given id corresponds to"
   ]
  },
  {
   "cell_type": "code",
   "execution_count": 54,
   "metadata": {
    "collapsed": true
   },
   "outputs": [
    {
     "data": {
      "text/plain": [
       "[[('अत्यन्त', 2),\n",
       "  ('अद्वार', 1),\n",
       "  ('अधिपति', 1),\n",
       "  ('अन्तःपुर', 2),\n",
       "  ('अप', 1),\n",
       "  ('अर्थ', 1),\n",
       "  ('अलङ्कार', 1),\n",
       "  ('आनन्दित', 1),\n",
       "  ('इंका', 1),\n",
       "  ('इनुमान्', 1),\n",
       "  ('इसमकार', 1),\n",
       "  ('इा', 1),\n",
       "  ('उत्कण्ठा', 1),\n",
       "  ('उत्तम', 2),\n",
       "  ('उत्पन्न', 1),\n",
       "  ('उम', 1),\n",
       "  ('उमक', 1),\n",
       "  ('ऊँचा', 1),\n",
       "  ('एकान्त', 1),\n",
       "  ('एला', 1),\n",
       "  ('कंचा', 1),\n",
       "  ('कदाचित', 1),\n",
       "  ('कान्ति', 1),\n",
       "  ('काम', 1),\n",
       "  ('कुण्डल', 1),\n",
       "  ('कुलीन', 1),\n",
       "  ('कोट', 1),\n",
       "  ('खिय', 1),\n",
       "  ('खो', 1),\n",
       "  ('गलीचा', 1),\n",
       "  ('गीवन', 1),\n",
       "  ('गुभ', 1),\n",
       "  ('घपलोप', 1),\n",
       "  ('घानर', 1),\n",
       "  ('घुषष', 1),\n",
       "  ('घूम', 1),\n",
       "  ('घूमा', 2),\n",
       "  ('चन्द्र', 1),\n",
       "  ('चमक', 2),\n",
       "  ('चार', 1),\n",
       "  ('छौ', 1),\n",
       "  ('जड़', 1),\n",
       "  ('जल', 1),\n",
       "  ('जानकी', 1),\n",
       "  ('जिमकी', 1),\n",
       "  ('जोकि', 1),\n",
       "  ('झरोक', 1),\n",
       "  ('डर', 1),\n",
       "  ('ढूँढ', 1),\n",
       "  ('ढूँढता', 1),\n",
       "  ('तव', 1),\n",
       "  ('ताजा', 1),\n",
       "  ('तुल्य', 2),\n",
       "  ('तेज', 1),\n",
       "  ('दान्त', 1),\n",
       "  ('दिव्य', 1),\n",
       "  ('दीपक', 1),\n",
       "  ('देसा', 1),\n",
       "  ('धानरराज', 1),\n",
       "  ('नगरी', 1),\n",
       "  ('निश्चय', 1),\n",
       "  ('नेत्रोंवाली', 1),\n",
       "  ('पटा', 1),\n",
       "  ('पड', 1),\n",
       "  ('पद्माकार', 1),\n",
       "  ('पनि', 1),\n",
       "  ('परस्त्री', 1),\n",
       "  ('पल', 1),\n",
       "  ('पलङ्ग', 1),\n",
       "  ('पवनपुत्र', 1),\n",
       "  ('पवनसुत', 1),\n",
       "  ('पहन', 1),\n",
       "  ('पहावानर', 1),\n",
       "  ('पा', 2),\n",
       "  ('पाछ', 1),\n",
       "  ('पान', 2),\n",
       "  ('पारी', 1),\n",
       "  ('पाला', 1),\n",
       "  ('पास', 2),\n",
       "  ('पिछ', 1),\n",
       "  ('पीकर', 1),\n",
       "  ('प्यारा', 1),\n",
       "  ('प्रकाश', 1),\n",
       "  ('प्रतीक्षा', 1),\n",
       "  ('प्रतीत', 1),\n",
       "  ('प्रविष्ट', 1),\n",
       "  ('प्रवेश', 1),\n",
       "  ('प्रसन्न', 1),\n",
       "  ('प्रस्थित', 1),\n",
       "  ('फर्श', 1),\n",
       "  ('फांद', 1),\n",
       "  ('बगीच', 1),\n",
       "  ('बडा', 2),\n",
       "  ('बढा', 1),\n",
       "  ('बद्द', 1),\n",
       "  ('बस', 1),\n",
       "  ('बायां', 1),\n",
       "  ('बेधड़क', 1),\n",
       "  ('बैठ', 1),\n",
       "  ('भन्तापुर', 1),\n",
       "  ('भय', 1),\n",
       "  ('भया', 4),\n",
       "  ('भर', 1),\n",
       "  ('भरपूर', 1),\n",
       "  ('भवन', 6),\n",
       "  ('भाकृति', 1),\n",
       "  ('भाषेत', 1),\n",
       "  ('भीत', 1),\n",
       "  ('भूपित', 1),\n",
       "  ('भूषण', 1),\n",
       "  ('भूषणोंवाली', 1),\n",
       "  ('भूषित', 1),\n",
       "  ('भोग', 1),\n",
       "  ('मजा', 1),\n",
       "  ('मन', 1),\n",
       "  ('मन्त्र', 1),\n",
       "  ('मन्दोदरी', 1),\n",
       "  ('मस्थित', 1),\n",
       "  ('महल', 2),\n",
       "  ('महा', 1),\n",
       "  ('महातेजस्वी', 1),\n",
       "  ('महान', 1),\n",
       "  ('महाबाहु', 1),\n",
       "  ('महारानर', 1),\n",
       "  ('महावीर्य', 1),\n",
       "  ('मा', 3),\n",
       "  ('माणेयां', 1),\n",
       "  ('मान', 3),\n",
       "  ('मारनेवाला', 1),\n",
       "  ('माला', 1),\n",
       "  ('मुखवाली', 1),\n",
       "  ('मुना', 1),\n",
       "  ('मुन्दरीन', 1),\n",
       "  ('मेघ', 1),\n",
       "  ('मो', 1),\n",
       "  ('यूयपति', 1),\n",
       "  ('येसूयास्त', 1),\n",
       "  ('यौवन', 1),\n",
       "  ('र', 1),\n",
       "  ('रख', 1),\n",
       "  ('रत', 2),\n",
       "  ('रत्न', 1),\n",
       "  ('रनिवास', 1),\n",
       "  ('राक्ष', 1),\n",
       "  ('राक्षस', 4),\n",
       "  ('राक्षसपति', 2),\n",
       "  ('राक्षसाधिपति', 1),\n",
       "  ('रात', 1),\n",
       "  ('राधण', 1),\n",
       "  ('राधा', 1),\n",
       "  ('राम', 1),\n",
       "  ('रावण', 4),\n",
       "  ('रुपवती', 1),\n",
       "  ('रूप', 2),\n",
       "  ('रूपवती', 1),\n",
       "  ('रूपाल', 1),\n",
       "  ('रूपाळ', 1),\n",
       "  ('लंका', 1),\n",
       "  ('लेट', 1),\n",
       "  ('लेटी', 2),\n",
       "  ('वर्धमान', 1),\n",
       "  ('वानर', 4),\n",
       "  ('वानरश्रेष्ठ', 1),\n",
       "  ('विचर', 1),\n",
       "  ('विचार', 1),\n",
       "  ('वियुक्त', 1),\n",
       "  ('विलोरी', 1),\n",
       "  ('विविध', 1),\n",
       "  ('विशाल', 1),\n",
       "  ('विषय', 1),\n",
       "  ('वैदेही', 1),\n",
       "  ('शङ्का', 1),\n",
       "  ('शत्रु', 1),\n",
       "  ('शत्रुन', 1),\n",
       "  ('शपनानन', 1),\n",
       "  ('शय्या', 1),\n",
       "  ('शराब', 1),\n",
       "  ('शरीर', 1),\n",
       "  ('शाला', 1),\n",
       "  ('शोभा', 1),\n",
       "  ('शोभायमान', 1),\n",
       "  ('श्रीद', 1),\n",
       "  ('श्रीमान्', 1),\n",
       "  ('श्रेष्ठ', 2),\n",
       "  ('श्वेत', 1),\n",
       "  ('षड़', 1),\n",
       "  ('संगमर्मर', 1),\n",
       "  ('सक्ती', 3),\n",
       "  ('सजे', 1),\n",
       "  ('सब', 1),\n",
       "  ('सम', 1),\n",
       "  ('सम्पदा', 1),\n",
       "  ('सस', 1),\n",
       "  ('सिर', 1),\n",
       "  ('सीता', 5),\n",
       "  ('सीदी', 1),\n",
       "  ('सीधा', 1),\n",
       "  ('सीमा', 1),\n",
       "  ('सुन्दर', 4),\n",
       "  ('सेवन', 1),\n",
       "  ('सेवित', 1),\n",
       "  ('सोंचम', 1),\n",
       "  ('सोना', 1),\n",
       "  ('स्तंभ', 1),\n",
       "  ('स्त्री', 3),\n",
       "  ('स्थित', 1),\n",
       "  ('स्थिव', 1),\n",
       "  ('स्वस्तिकाकार', 1),\n",
       "  ('स्वाध्याय', 1),\n",
       "  ('हनुमान', 3),\n",
       "  ('हितैषी', 1),\n",
       "  ('हुमा', 1),\n",
       "  ('हृ', 1),\n",
       "  ('हृदय', 1),\n",
       "  ('है।', 1)]]"
      ]
     },
     "execution_count": 54,
     "metadata": {},
     "output_type": "execute_result"
    }
   ],
   "source": [
    "# Human readable format of corpus (term-frequency)\n",
    "[[(id2word[id], freq) for id, freq in cp] for cp in corpus[:1]]"
   ]
  },
  {
   "cell_type": "code",
   "execution_count": 57,
   "metadata": {},
   "outputs": [],
   "source": [
    "# Build LDA model\n",
    "\n",
    "lda_model = gensim.models.ldamodel.LdaModel(corpus=corpus,\n",
    "                                           id2word=id2word,\n",
    "                                           num_topics=5, \n",
    "                                           random_state=100,\n",
    "                                           update_every=10,\n",
    "                                           chunksize=100,\n",
    "                                           passes=20,\n",
    "                                           alpha='auto',\n",
    "                                           per_word_topics=True)"
   ]
  },
  {
   "cell_type": "code",
   "execution_count": 58,
   "metadata": {
    "collapsed": true
   },
   "outputs": [
    {
     "name": "stdout",
     "output_type": "stream",
     "text": [
      "[(0,\n",
      "  '0.005*\"भवन\" + 0.005*\"राक्षस\" + 0.005*\"सीता\" + 0.005*\"मा\" + 0.005*\"हनुमान\" + '\n",
      "  '0.005*\"वानर\" + 0.005*\"सुन्दर\" + 0.005*\"रावण\" + 0.005*\"भया\" + 0.005*\"रत\"'),\n",
      " (1,\n",
      "  '0.005*\"सीता\" + 0.005*\"भवन\" + 0.005*\"सक्ती\" + 0.005*\"रावण\" + 0.005*\"भया\" + '\n",
      "  '0.005*\"सुन्दर\" + 0.005*\"वानर\" + 0.005*\"राक्षस\" + 0.005*\"मान\" + '\n",
      "  '0.005*\"हनुमान\"'),\n",
      " (2,\n",
      "  '0.005*\"भवन\" + 0.005*\"सीता\" + 0.005*\"सुन्दर\" + 0.005*\"रावण\" + 0.005*\"स्त्री\" '\n",
      "  '+ 0.005*\"वानर\" + 0.005*\"राक्षस\" + 0.005*\"मान\" + 0.005*\"भया\" + '\n",
      "  '0.005*\"हनुमान\"'),\n",
      " (3,\n",
      "  '0.020*\"भवन\" + 0.017*\"सीता\" + 0.014*\"भया\" + 0.014*\"रावण\" + 0.014*\"वानर\" + '\n",
      "  '0.014*\"राक्षस\" + 0.014*\"सुन्दर\" + 0.010*\"सक्ती\" + 0.010*\"स्त्री\" + '\n",
      "  '0.010*\"मान\"'),\n",
      " (4,\n",
      "  '0.005*\"भवन\" + 0.005*\"भया\" + 0.005*\"सीता\" + 0.005*\"सुन्दर\" + 0.005*\"स्त्री\" '\n",
      "  '+ 0.005*\"वानर\" + 0.005*\"मान\" + 0.005*\"राक्षस\" + 0.005*\"रावण\" + '\n",
      "  '0.005*\"सक्ती\"')]\n"
     ]
    }
   ],
   "source": [
    "# Print the Keyword in the 10 topics\n",
    "# It means the top 10 keywords that contribute to this topic are: ‘hockey’, ‘pts_pt’, ‘pit’.. and \n",
    "# so on and the weight of ‘hockey’ on topic 0 is 0.044.\n",
    "\n",
    "pprint(lda_model.print_topics())\n",
    "doc_lda = lda_model[corpus]"
   ]
  },
  {
   "cell_type": "code",
   "execution_count": null,
   "metadata": {},
   "outputs": [],
   "source": []
  }
 ],
 "metadata": {
  "kernelspec": {
   "display_name": "Python 3",
   "language": "python",
   "name": "python3"
  },
  "language_info": {
   "codemirror_mode": {
    "name": "ipython",
    "version": 3
   },
   "file_extension": ".py",
   "mimetype": "text/x-python",
   "name": "python",
   "nbconvert_exporter": "python",
   "pygments_lexer": "ipython3",
   "version": "3.7.4"
  }
 },
 "nbformat": 4,
 "nbformat_minor": 2
}
