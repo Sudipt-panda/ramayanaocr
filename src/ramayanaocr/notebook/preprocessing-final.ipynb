{
 "cells": [
  {
   "cell_type": "code",
   "execution_count": 50,
   "metadata": {},
   "outputs": [],
   "source": [
    "import re\n",
    "import os,glob\n",
    "from nltk.metrics import *\n",
    "# from table_logger import TableLogger\n",
    "import pandas as pd\n",
    "from datetime import datetime\n",
    "import inspect\n",
    "regex_list = []"
   ]
  },
  {
   "cell_type": "code",
   "execution_count": 51,
   "metadata": {},
   "outputs": [],
   "source": [
    "# Logging\n",
    "\n",
    "log_columns = [\"seq\",\"timestamp\",\"process\",\"function\",\"output\"]\n",
    "log_tbl = pd.DataFrame(columns = log_columns)\n",
    "\n",
    "# TableLogger(columns='seq,timestamp,process,function,output')\n",
    "# tbl(1, 'Row1', datetime.now(), math.pi)"
   ]
  },
  {
   "cell_type": "code",
   "execution_count": 52,
   "metadata": {},
   "outputs": [],
   "source": [
    "fulltext = []\n",
    "folder_path = '../data/gt/txt/'\n",
    "#folder_path = 'D:/Data/CaseStudies-2/data/valmiki/gt/ramayana_kishkindhya/'\n",
    "for filename in sorted(glob.glob(os.path.join(folder_path, '*.txt'))):\n",
    "    if 1==1:\n",
    "#     if int(os.path.basename(filename).split(\".\")[0]) % 2 != 0: # \"shrivalmiki ramayana\"\n",
    "#     if int(os.path.basename(filename).split(\".\")[0]) % 2 == 0: # \"sundar kand\"\n",
    "        with open(filename, 'r',encoding='utf-8') as f:\n",
    "            text = f.read()\n",
    "#             print(type(text))\n",
    "#             print(text.strip())\n",
    "            fulltext.append(text.strip())\n",
    "    #         print(filename)\n",
    "    #         print (len(fulltext))"
   ]
  },
  {
   "cell_type": "code",
   "execution_count": 53,
   "metadata": {},
   "outputs": [
    {
     "data": {
      "text/plain": [
       "'६४२ \\nश्रीवाल्मीकि रामायण वानर हनुमान सीमा के देखने की उत्कण्ठा येसूयास्त की प्रतीक्षा करता भया ॥१७॥ \\nसर्ग ३ (घ४-९) सीता को रावण के भन्तापुर में ढूंढना : मूल-अधारेण महावीर्यः प्राकारमवपुप्लुरे । निशि लट्टा महासत्शे विवेश कपिकुलाः ॥ १ ॥ मविश्य नगरी कडा कपिराजहितकरः। चक्रेऽथ पादं सव्यं च शबूर्णा स तु मूर्धनि ।। २ ॥ प्रभज्याल तदा । सहा रोगणगृहः शुभैः । सिवाभ्रसौश्चि पास्वस्तिकसंस्थितैः ॥ ३॥ वर्षमानगृहश्चापि सर्वतः मुविभूषितः । राषचार्य चरश्रीमान्ददर्श च ननन्द च ॥ ४ ॥ भवनाजचनं गच्छन्ददर्श कपिकुलः । विविधाकृतिरूपाणि भवनानि ततस्ततः ॥ ५ ॥ +शुश्र जपतां सत्र मन्त्रानरसोरहेषु वै । स्वाध्यायनिरतांश्चैव यातुधानान्ददर्श ॥ ६ ॥ हादूगई राक्षसानामुद्यानानि च सर्वशः । वीक्षमाणःसंवस्तः प्रासादाश्च चचार सः ॥ ७ ॥ ददर्श भवनश्रेष्ठं हनुमान्मारूसात्मनः । भवनं राक्षसेन्द्रस्य बहुमा \\nसादसंकुलम् ॥ ८॥ मार्गमाणस्तु बैदेहीं सीतामायतकोचनाम् । .. सर्वतः परिचक्राम हनूमानरिसूदनः ॥ ९ ॥ वतस्ता प्रस्थितः . शालां ददर्श महती शिवाम् । रावणए महाकान्तां कान्तामिव वर स्त्रियम् ॥ १०॥मणिसोपानविकृतां हेमजालविराजिताम् । स्फाटिकैराततलां दन्तान्तरितरूपिकाम् ॥ ११ ॥ समैजुभिरत्युश्चः समन्तात्पुत्रिभूषितः । स्तम्भ पक्षरिवारयुचैदिवं समस्थितामिव ॥ १२ ॥ परास्तिरणोपेतां रक्षोधिपनिषेविताम् । मनसो मोदजननी वर्णस्यापि प्रसाधिनीम् ॥ १३ ॥दीपानां च मकान तेजसा रावणस्य च । अचिभिर्भूषणानां च प्रदीप्त्यभ्यमन्यस ॥ १४ ॥ . तत्र दिच्योपमं मुख्य स्फाटिक रस्नभूषितम् । अवेक्षमाणो हनुमा- . न्ददर्श शायनासनम् ॥ १५ ।। पीत्वाप्यूपररी चापि ददर्श स महा'"
      ]
     },
     "execution_count": 53,
     "metadata": {},
     "output_type": "execute_result"
    }
   ],
   "source": [
    "fulltext[0]"
   ]
  },
  {
   "cell_type": "markdown",
   "metadata": {},
   "source": [
    "### Remove new line character \\n"
   ]
  },
  {
   "cell_type": "code",
   "execution_count": 54,
   "metadata": {},
   "outputs": [],
   "source": [
    "prepared_text = \"\"\n",
    "for line in fulltext:\n",
    "    line = line.split()\n",
    "#     print(line)\n",
    "    tmp_line = \" \".join(line)\n",
    "    prepared_text +=tmp_line\n",
    "\n",
    "# prepared_text\n"
   ]
  },
  {
   "cell_type": "code",
   "execution_count": 56,
   "metadata": {},
   "outputs": [],
   "source": [
    "#prepared_text"
   ]
  },
  {
   "cell_type": "markdown",
   "metadata": {},
   "source": [
    "### Convert to string from list"
   ]
  },
  {
   "cell_type": "code",
   "execution_count": 57,
   "metadata": {},
   "outputs": [],
   "source": [
    "# convert list of text as string \n",
    "def create_str_from_list(original_read_text):\n",
    "    prepared_text = \"\"\n",
    "    for line in fulltext:\n",
    "        line = line.split()\n",
    "#       print(line)\n",
    "        tmp_line = \" \".join(line)\n",
    "        prepared_text +=tmp_line\n",
    "    return prepared_text\n",
    "\n",
    "# remove regex matched text (for single pattern)\n",
    "# def clean_text(rgxed_list, text):\n",
    "#     new_text = text\n",
    "#     if len(rgxed_list) > 0:\n",
    "#         for rgx_match in rgxed_list:\n",
    "# #             print(rgx_match, type(rgx_match))\n",
    "#             new_text = re.sub(rgx_match, '', str(new_text)) # https://stackoverflow.com/questions/43727583/re-sub-erroring-with-expected-string-or-bytes-like-object\n",
    "#     return new_text\n",
    "\n",
    "def clean_text(pattern, text):\n",
    "    new_text = text\n",
    "    new_text = re.sub(pattern, '', str(new_text)) # https://stackoverflow.com/questions/43727583/re-sub-erroring-with-expected-string-or-bytes-like-object\n",
    "    return new_text\n",
    "\n",
    "\n",
    "# logging and creation of regex_matched_list(list containing strings that match the pattern)\n",
    "def whoami():\n",
    "    return inspect.stack()[1][3]\n",
    "def whosdaddy():\n",
    "    return inspect.stack()[2][3]\n",
    "\n",
    "def create_match_list_n_log(pattern,prepared_text):\n",
    "    matched_list = re.findall(pattern,\n",
    "                     prepared_text)\n",
    "    len_match = len(matched_list)\n",
    "    set_match = set(matched_list)\n",
    "    output_tuple = len_match,set_match\n",
    "#     print(output_tuple)\n",
    "#     regex_list.append(set_match)\n",
    "    \n",
    "    global seq,log_tbl\n",
    "#     tbl(seq, datetime.now(),\"parent: %s and child: %s\" % (whosdaddy(),whoami()),pattern,output_tuple)\n",
    "    to_append = [seq, datetime.now(),\"parent: %s and child: %s\" % (whosdaddy(),whoami()),pattern,output_tuple]\n",
    "    a_series = pd.Series(to_append, index = log_tbl.columns)\n",
    "    log_tbl = log_tbl.append(a_series, ignore_index=True)\n",
    "    \n",
    "    seq += 1\n",
    "    return set_match\n",
    "\n",
    "regex_list = []\n",
    "seq = 1\n",
    "\n",
    "# remove all types of regex patterns\n",
    "def header_removal(prepared_text,pattern_list):\n",
    "    for pattern in pattern_list:\n",
    "        tmp_match_set = create_match_list_n_log(pattern,prepared_text)\n",
    "#         print(len(tmp_match_set))\n",
    "        regex_list.append(tmp_match_set)\n",
    "    \n",
    "#     print(len(regex_list))\n",
    "    \n",
    "    for pattern in pattern_list:\n",
    "#         print(len(single_list))\n",
    "        prepared_text = clean_text(pattern,prepared_text)\n",
    "#         print(prepared_text[0:10])\n",
    "    return prepared_text\n"
   ]
  },
  {
   "cell_type": "code",
   "execution_count": 67,
   "metadata": {
    "collapsed": true
   },
   "outputs": [
    {
     "data": {
      "text/plain": [
       "[{'१५० ',\n",
       "  '१८५ ',\n",
       "  '१८७ ',\n",
       "  '१९४ ',\n",
       "  '१९५ ',\n",
       "  '२९६ ',\n",
       "  '३६१ ',\n",
       "  '३८५ ',\n",
       "  '६४२ ',\n",
       "  '६४६ ',\n",
       "  '६४८ ',\n",
       "  '६४९ ',\n",
       "  '६५० ',\n",
       "  '६५१ ',\n",
       "  '६५२ ',\n",
       "  '६५४ ',\n",
       "  '६५६ ',\n",
       "  '६५७ ',\n",
       "  '६५८ ',\n",
       "  '६५९ ',\n",
       "  '६६८ ',\n",
       "  '६७८ ',\n",
       "  '६८२ ',\n",
       "  '६८९ ',\n",
       "  '६९० ',\n",
       "  '६९८ ',\n",
       "  '७०० ',\n",
       "  '७०२ ',\n",
       "  '७०६ ',\n",
       "  '७०८ ',\n",
       "  '७११ ',\n",
       "  '७१२ ',\n",
       "  '७१४ ',\n",
       "  '७१६ ',\n",
       "  '७१७ ',\n",
       "  '७१८ ',\n",
       "  '७२० ',\n",
       "  '७२१ ',\n",
       "  '७२३ ',\n",
       "  '७२४ ',\n",
       "  '७२६ ',\n",
       "  '७२७ ',\n",
       "  '७२८ ',\n",
       "  '७२९ ',\n",
       "  '७३० ',\n",
       "  '७३१ ',\n",
       "  '७३५ ',\n",
       "  '७३७ ',\n",
       "  '७३८ ',\n",
       "  '७६२ '},\n",
       " {'मर्ग १] ',\n",
       "  'मर्ग ११] ',\n",
       "  'वर्ग २.3',\n",
       "  'वर्ग २० ]',\n",
       "  'सर्ग (व',\n",
       "  'सर्ग ] ',\n",
       "  'सर्ग १ (',\n",
       "  'सर्ग १] ',\n",
       "  'सर्ग १० (२०१५',\n",
       "  'सर्ग १०] ',\n",
       "  'सर्ग ११] ',\n",
       "  'सर्ग ११].',\n",
       "  'सर्ग १२ (',\n",
       "  'सर्ग १२] ',\n",
       "  'सर्ग १३] ',\n",
       "  'सर्ग १४ (',\n",
       "  'सर्ग १५ (०३२',\n",
       "  'सर्ग १५] ',\n",
       "  'सर्ग १५० २',\n",
       "  'सर्ग १६ (',\n",
       "  'सर्ग १६) ',\n",
       "  'सर्ग १८] ',\n",
       "  'सर्ग १९ (',\n",
       "  'सर्ग १९ (५०३३',\n",
       "  'सर्ग २ य',\n",
       "  'सर्ग २० (१०३४',\n",
       "  'सर्ग २०] ',\n",
       "  'सर्ग २१ [१०३७',\n",
       "  'सर्ग २१] ',\n",
       "  'सर्ग २२ (१०३८',\n",
       "  'सर्ग २३ (',\n",
       "  'सर्ग २३ स',\n",
       "  'सर्ग २३] ',\n",
       "  'सर्ग २४ स',\n",
       "  'सर्ग २४] ',\n",
       "  'सर्ग २५] ',\n",
       "  'सर्ग २८ (२०५४',\n",
       "  'सर्ग २८] ',\n",
       "  'सर्ग २९ (',\n",
       "  'सर्ग ३ (',\n",
       "  'सर्ग ३(२०६०',\n",
       "  'सर्ग ३] ',\n",
       "  'सर्ग ३० ]',\n",
       "  'सर्ग ३०] ',\n",
       "  'सर्ग ४ (',\n",
       "  'सर्ग ४] ',\n",
       "  'सर्ग ५ (१०९',\n",
       "  'सर्ग ५ य',\n",
       "  'सर्ग ५(२०१२',\n",
       "  'सर्ग ५(२०१३',\n",
       "  'सर्ग ६] ',\n",
       "  'सर्ग ७] ',\n",
       "  \"सर्ग ८ '\",\n",
       "  'सर्ग ८ (२०१५',\n",
       "  'सर्ग ८] ',\n",
       "  'सर्ग ९(२०१६',\n",
       "  'सर्ग ९] '},\n",
       " {'अन्दर काण',\n",
       "  'अन्दर काम',\n",
       "  'इन्दर काप',\n",
       "  'एन्दर काण',\n",
       "  'बन्दर काम',\n",
       "  'मुन्दर काण्ड',\n",
       "  'सुन्दर काण बह',\n",
       "  'सुन्दर काण व',\n",
       "  'सुन्दर काण ७०६',\n",
       "  'सुन्दर काण्ड'},\n",
       " {'श्रीबाल्मीकि रामायण', 'श्रीवाल्मीकि रामायण', 'श्रीवाल्मीकी रामायण'},\n",
       " {'मल-', 'मुल-', 'मूल-', 'मृल-', 'सूल-'},\n",
       " {'आका-', 'चौका-', 'टका-', 'टीका-', 'दीका-', 'धका-', 'यीका-'},\n",
       " {'मल-', 'मुल-', 'मूल-', 'मृल-', 'सूल-'},\n",
       " {'आका-', 'चौका-', 'टका-', 'टीका-', 'दीका-', 'धका-', 'यीका-'},\n",
       " {'मल-', 'मुल-', 'मूल-', 'मृल-'},\n",
       " {'आका-', 'चौका-', 'टका-', 'टीका-', 'दीका-', 'धका-', 'यीका-'},\n",
       " {'मल-', 'मुल-', 'मूल-', 'मृल-'},\n",
       " {'आका-', 'चौका-', 'टका-', 'टीका-', 'दीका-', 'धका-', 'यीका-'},\n",
       " {'मल-', 'मुल-', 'मूल-', 'मृल-'},\n",
       " {'आका-', 'चौका-', 'टका-', 'टीका-', 'दीका-', 'धका-', 'यीका-'},\n",
       " {'मल-', 'मुल-', 'मूल-'},\n",
       " {'आका-', 'टका-', 'टीका-', 'दीका-', 'धका-', 'यीका-'},\n",
       " {'मल-', 'मुल-', 'मूल-'},\n",
       " {'आका-', 'टका-', 'टीका-', 'दीका-', 'धका-', 'यीका-'},\n",
       " {'मल-', 'मुल-', 'मूल-'},\n",
       " {'आका-', 'टका-', 'टीका-', 'दीका-', 'धका-', 'यीका-'},\n",
       " {'मल-', 'मुल-', 'मूल-'},\n",
       " {'आका-', 'टका-', 'टीका-', 'दीका-', 'धका-', 'यीका-'},\n",
       " {'मल-', 'मुल-', 'मूल-'},\n",
       " {'आका-', 'टका-', 'टीका-', 'दीका-', 'धका-', 'यीका-'},\n",
       " {'मल-', 'मुल-', 'मूल-'},\n",
       " {'आका-', 'टका-', 'टीका-', 'दीका-', 'धका-', 'यीका-'},\n",
       " {'मल-', 'मुल-', 'मूल-'},\n",
       " {'आका-', 'टका-', 'टीका-', 'दीका-', 'धका-', 'यीका-'},\n",
       " {'मल-', 'मुल-', 'मूल-'},\n",
       " {'आका-', 'टका-', 'टीका-', 'दीका-', 'धका-', 'यीका-'},\n",
       " {'मल-', 'मुल-', 'मूल-'},\n",
       " {'आका-', 'टका-', 'टीका-', 'दीका-', 'धका-', 'यीका-'},\n",
       " {'मल-', 'मुल-', 'मूल-'},\n",
       " {'आका-', 'टका-', 'टीका-', 'दीका-', 'धका-', 'यीका-'},\n",
       " {'मल-', 'मुल-', 'मूल-'},\n",
       " {'आका-', 'टका-', 'टीका-', 'दीका-', 'धका-', 'यीका-'},\n",
       " {'मल-', 'मुल-', 'मूल-'},\n",
       " {'आका-', 'टका-', 'टीका-', 'दीका-', 'धका-', 'यीका-'},\n",
       " {'मल-', 'मुल-', 'मूल-'},\n",
       " {'आका-', 'टका-', 'टीका-', 'दीका-', 'धका-', 'यीका-'},\n",
       " {'मल-', 'मुल-', 'मूल-'},\n",
       " {'आका-', 'टका-', 'टीका-', 'दीका-', 'धका-', 'यीका-'},\n",
       " {'मल-', 'मुल-', 'मूल-'},\n",
       " {'आका-', 'टका-', 'टीका-', 'दीका-', 'धका-', 'यीका-'},\n",
       " {'मल-', 'मुल-', 'मूल-'},\n",
       " {'आका-', 'टीका-', 'दीका-', 'धका-', 'यीका-'},\n",
       " {'मल-', 'मुल-', 'मूल-'},\n",
       " {'आका-', 'टीका-', 'दीका-', 'धका-', 'यीका-'},\n",
       " {'मल-', 'मुल-', 'मूल-'},\n",
       " {'आका-', 'टीका-', 'दीका-', 'धका-', 'यीका-'},\n",
       " {'मल-', 'मुल-', 'मूल-'},\n",
       " {'आका-', 'टीका-', 'दीका-', 'धका-', 'यीका-'},\n",
       " {'मल-', 'मुल-', 'मूल-'},\n",
       " {'आका-', 'टीका-', 'दीका-', 'धका-', 'यीका-'},\n",
       " {'मल-', 'मूल-'},\n",
       " {'आका-', 'टीका-', 'दीका-', 'धका-', 'यीका-'},\n",
       " {'मल-', 'मूल-'},\n",
       " {'टीका-', 'दीका-', 'धका-', 'यीका-'},\n",
       " {'मल-', 'मूल-'},\n",
       " {'टीका-', 'दीका-', 'यीका-'},\n",
       " {'मल-', 'मूल-'},\n",
       " {'टीका-', 'दीका-', 'यीका-'},\n",
       " {'मल-', 'मूल-'},\n",
       " {'टीका-', 'दीका-', 'यीका-'},\n",
       " {'मल-', 'मूल-'},\n",
       " {'टीका-', 'दीका-', 'यीका-'},\n",
       " {'मल-', 'मूल-'},\n",
       " {'टीका-', 'दीका-', 'यीका-'},\n",
       " {'मल-', 'मूल-'},\n",
       " {'टीका-', 'दीका-', 'यीका-'},\n",
       " {'मल-', 'मूल-'},\n",
       " {'टीका-', 'दीका-'},\n",
       " {'मल-', 'मूल-'},\n",
       " {'टीका-', 'दीका-'},\n",
       " {'मल-', 'मूल-'},\n",
       " {'टीका-', 'दीका-'},\n",
       " {'मल-', 'मूल-'},\n",
       " {'टीका-'},\n",
       " {'मल-'},\n",
       " set()]"
      ]
     },
     "execution_count": 67,
     "metadata": {},
     "output_type": "execute_result"
    }
   ],
   "source": [
    "regex_list"
   ]
  },
  {
   "cell_type": "code",
   "execution_count": 59,
   "metadata": {},
   "outputs": [],
   "source": [
    "prepared_text = create_str_from_list(fulltext)\n",
    "# prepared_text"
   ]
  },
  {
   "cell_type": "code",
   "execution_count": 60,
   "metadata": {},
   "outputs": [],
   "source": [
    "regex_page_number = \"\\d[०-९][०-९][०-९]*\\s\"\n",
    "regex_shrivalmiki_ramayana = \"\\w.\\w.\\w.ल्म.\\w.\\s\\w.\\w.\\w.\"\n",
    "regex_sundar_kand = \"\\wन्दर\\sका.|\\w.न्दर\\sकाण.\\w+|\\w.न्दर\\sकाण्ड.\" #\"\\wन्दर\\sका|\\w.न्दर\\sका\"\n",
    "regex_sarg = \"\\wर्ग\\s[०-९]*\\W.[०-९]+|\\wर्ग\\s[०-९]*\\W.[०-९]*\" #\"\\wर्ग\\s[०-९]*.|\\wर्ग\\s[०-९]*.[०-९]\"\n",
    "\n",
    "pattern_list = [regex_page_number,\n",
    "                regex_sarg,\n",
    "                regex_sundar_kand,\n",
    "                regex_shrivalmiki_ramayana]"
   ]
  },
  {
   "cell_type": "code",
   "execution_count": 61,
   "metadata": {},
   "outputs": [
    {
     "data": {
      "text/plain": [
       "' वानर हनुमान सीमा के देखने की उत्कण्ठा येसूयास्त की प्रतीक्षा करता भया ॥१७॥ घ४-९) सीता को रावण के भन'"
      ]
     },
     "execution_count": 61,
     "metadata": {},
     "output_type": "execute_result"
    }
   ],
   "source": [
    "cleaned_text = header_removal(prepared_text,pattern_list)\n",
    "cleaned_text[0:100]"
   ]
  },
  {
   "cell_type": "code",
   "execution_count": 62,
   "metadata": {},
   "outputs": [
    {
     "data": {
      "text/plain": [
       "(26,\n",
       " {'अन्दर काण',\n",
       "  'अन्दर काम',\n",
       "  'इन्दर काप',\n",
       "  'एन्दर काण',\n",
       "  'बन्दर काम',\n",
       "  'मुन्दर काण्ड',\n",
       "  'सुन्दर काण बह',\n",
       "  'सुन्दर काण व',\n",
       "  'सुन्दर काण ७०६',\n",
       "  'सुन्दर काण्ड'})"
      ]
     },
     "execution_count": 62,
     "metadata": {},
     "output_type": "execute_result"
    }
   ],
   "source": [
    "log_tbl.output[2]"
   ]
  },
  {
   "cell_type": "code",
   "execution_count": 63,
   "metadata": {},
   "outputs": [],
   "source": [
    "#cleaned_text"
   ]
  },
  {
   "cell_type": "code",
   "execution_count": 64,
   "metadata": {},
   "outputs": [],
   "source": [
    "def sanskrit_hindi_separate(prepared_text):\n",
    "    \n",
    "    resultHin = ''\n",
    "    resultSan = ''\n",
    "    muul_pattern = \"\\w.ल-|\\wल-\"\n",
    "    tika_pattern = \"\\w.का-|\\wका-\"\n",
    "    total_muul = re.findall(muul_pattern, prepared_text)\n",
    "    for x in range(len(total_muul)):\n",
    "        tmp_match_set = create_match_list_n_log(muul_pattern,prepared_text)\n",
    "        regex_list.append(tmp_match_set)\n",
    "        before_muul = re.split(muul_pattern,prepared_text,maxsplit=1)\n",
    "        #print(\"muul\",len(result1))\n",
    "        #print (\"muul\",result1[0] )\n",
    "        if len(before_muul)>1:\n",
    "            tmp_match_set = create_match_list_n_log(tika_pattern,before_muul[1])\n",
    "            regex_list.append(tmp_match_set)\n",
    "            after_muul =re.split(tika_pattern,before_muul[1],maxsplit=1)\n",
    "        resultHin += before_muul[0]\n",
    "        resultSan += after_muul[0]\n",
    "        #print(\"tika\",len(result2))\n",
    "        #print(\"tika\",result2[0]) \n",
    "        if len(after_muul)>1:\n",
    "            prepared_text = after_muul[1]\n",
    "        else:\n",
    "            prepared_text = after_muul[0]\n",
    "            break\n",
    "    \n",
    "    return resultHin,resultSan"
   ]
  },
  {
   "cell_type": "code",
   "execution_count": 65,
   "metadata": {},
   "outputs": [],
   "source": [
    "resultHin,resultSan = sanskrit_hindi_separate(cleaned_text)"
   ]
  },
  {
   "cell_type": "code",
   "execution_count": 66,
   "metadata": {},
   "outputs": [
    {
     "data": {
      "text/plain": [
       "(41, {'मल-', 'मुल-', 'मूल-', 'मृल-', 'सूल-'})"
      ]
     },
     "execution_count": 66,
     "metadata": {},
     "output_type": "execute_result"
    }
   ],
   "source": [
    "log_tbl.output[4]"
   ]
  },
  {
   "cell_type": "code",
   "execution_count": 49,
   "metadata": {
    "collapsed": true
   },
   "outputs": [
    {
     "data": {
      "text/plain": [
       "[{'१५० ',\n",
       "  '१८५ ',\n",
       "  '१८७ ',\n",
       "  '१९४ ',\n",
       "  '१९५ ',\n",
       "  '२९६ ',\n",
       "  '३६१ ',\n",
       "  '३८५ ',\n",
       "  '६४२ ',\n",
       "  '६४६ ',\n",
       "  '६४८ ',\n",
       "  '६४९ ',\n",
       "  '६५० ',\n",
       "  '६५१ ',\n",
       "  '६५२ ',\n",
       "  '६५४ ',\n",
       "  '६५६ ',\n",
       "  '६५७ ',\n",
       "  '६५८ ',\n",
       "  '६५९ ',\n",
       "  '६६८ ',\n",
       "  '६७८ ',\n",
       "  '६८२ ',\n",
       "  '६८९ ',\n",
       "  '६९० ',\n",
       "  '६९८ ',\n",
       "  '७०० ',\n",
       "  '७०२ ',\n",
       "  '७०६ ',\n",
       "  '७०८ ',\n",
       "  '७११ ',\n",
       "  '७१२ ',\n",
       "  '७१४ ',\n",
       "  '७१६ ',\n",
       "  '७१७ ',\n",
       "  '७१८ ',\n",
       "  '७२० ',\n",
       "  '७२१ ',\n",
       "  '७२३ ',\n",
       "  '७२४ ',\n",
       "  '७२६ ',\n",
       "  '७२७ ',\n",
       "  '७२८ ',\n",
       "  '७२९ ',\n",
       "  '७३० ',\n",
       "  '७३१ ',\n",
       "  '७३५ ',\n",
       "  '७३७ ',\n",
       "  '७३८ ',\n",
       "  '७६२ '},\n",
       " {'मर्ग १] ',\n",
       "  'मर्ग ११] ',\n",
       "  'वर्ग २.3',\n",
       "  'वर्ग २० ]',\n",
       "  'सर्ग (व',\n",
       "  'सर्ग ] ',\n",
       "  'सर्ग १ (',\n",
       "  'सर्ग १] ',\n",
       "  'सर्ग १० (२०१५',\n",
       "  'सर्ग १०] ',\n",
       "  'सर्ग ११] ',\n",
       "  'सर्ग ११].',\n",
       "  'सर्ग १२ (',\n",
       "  'सर्ग १२] ',\n",
       "  'सर्ग १३] ',\n",
       "  'सर्ग १४ (',\n",
       "  'सर्ग १५ (०३२',\n",
       "  'सर्ग १५] ',\n",
       "  'सर्ग १५० २',\n",
       "  'सर्ग १६ (',\n",
       "  'सर्ग १६) ',\n",
       "  'सर्ग १८] ',\n",
       "  'सर्ग १९ (',\n",
       "  'सर्ग १९ (५०३३',\n",
       "  'सर्ग २ य',\n",
       "  'सर्ग २० (१०३४',\n",
       "  'सर्ग २०] ',\n",
       "  'सर्ग २१ [१०३७',\n",
       "  'सर्ग २१] ',\n",
       "  'सर्ग २२ (१०३८',\n",
       "  'सर्ग २३ (',\n",
       "  'सर्ग २३ स',\n",
       "  'सर्ग २३] ',\n",
       "  'सर्ग २४ स',\n",
       "  'सर्ग २४] ',\n",
       "  'सर्ग २५] ',\n",
       "  'सर्ग २८ (२०५४',\n",
       "  'सर्ग २८] ',\n",
       "  'सर्ग २९ (',\n",
       "  'सर्ग ३ (',\n",
       "  'सर्ग ३(२०६०',\n",
       "  'सर्ग ३] ',\n",
       "  'सर्ग ३० ]',\n",
       "  'सर्ग ३०] ',\n",
       "  'सर्ग ४ (',\n",
       "  'सर्ग ४] ',\n",
       "  'सर्ग ५ (१०९',\n",
       "  'सर्ग ५ य',\n",
       "  'सर्ग ५(२०१२',\n",
       "  'सर्ग ५(२०१३',\n",
       "  'सर्ग ६] ',\n",
       "  'सर्ग ७] ',\n",
       "  \"सर्ग ८ '\",\n",
       "  'सर्ग ८ (२०१५',\n",
       "  'सर्ग ८] ',\n",
       "  'सर्ग ९(२०१६',\n",
       "  'सर्ग ९] '},\n",
       " {'अन्दर काण',\n",
       "  'अन्दर काम',\n",
       "  'इन्दर काप',\n",
       "  'एन्दर काण',\n",
       "  'बन्दर काम',\n",
       "  'मुन्दर काण्ड',\n",
       "  'सुन्दर काण बह',\n",
       "  'सुन्दर काण व',\n",
       "  'सुन्दर काण ७०६',\n",
       "  'सुन्दर काण्ड'},\n",
       " {'श्रीबाल्मीकि रामायण', 'श्रीवाल्मीकि रामायण', 'श्रीवाल्मीकी रामायण'}]"
      ]
     },
     "execution_count": 49,
     "metadata": {},
     "output_type": "execute_result"
    }
   ],
   "source": [
    "regex_list"
   ]
  },
  {
   "cell_type": "code",
   "execution_count": 37,
   "metadata": {},
   "outputs": [],
   "source": [
    "#resultHin"
   ]
  },
  {
   "cell_type": "code",
   "execution_count": 38,
   "metadata": {},
   "outputs": [],
   "source": [
    "#resultSan"
   ]
  },
  {
   "cell_type": "code",
   "execution_count": 22,
   "metadata": {},
   "outputs": [],
   "source": [
    "# remove sarg from the text\n",
    "cleaned_sarg = clean_text(\"\\wर्ग\\s[०-९]*\\W.[०-९]+|\\wर्ग\\s[०-९]*\\W.[०-९]*\",prepared_text)\n",
    "# cleaned_sarg"
   ]
  },
  {
   "cell_type": "code",
   "execution_count": 31,
   "metadata": {},
   "outputs": [
    {
     "data": {
      "text/plain": [
       "'६४० श्रीचाल्मीकि रामायण पालिताम् । परिखाभिः सपमाभिः सोत्पलामिरलंकृताम् ॥ ४ ॥ सीतापहरणाचन रावणेन सुरक्षिताम् । समन्ताद्विचराद्भिश्च राक्षसरुप्रबिभिः ॥ ५॥ काश्चनेनावृतां रम्या माकारण महापुरीम् । अहालकथावाकीणी पताकाध्वजशोभिताम् ॥ ६ ॥ गिरिमूठिन स्थिता ला पाण्डुरैवनैः शुभैः । ददर्श स कपिः श्रीमापुरीमाकारागाभिव ॥ ७॥ ततः स चिन्तयामास मुहूर्त कपिकुमार। गिरेः शृङ्गे स्थितस्तस्मिन्रामस्याभ्युदयं ततः ॥ ८ ॥ अनेन रूपेण मया न शपया रक्षसां पुरी । प्ररेष्टुं सतगुता रैलसमन्वितः ॥९॥ महौजसो महावीर्या घलवन्तश्च राक्षसाः । वश्चनीया मया सर्वे जानी परिमार्गता ॥ १० ॥ केनोपायन पश्ययं मैथिलीं जनकात्मजाम् । अष्टो राक्षसेन्द्रेण रावणेन दुरात्पना ॥ ११ ॥ न घिनश्येत्कचं कार्य रामस्य चिदितात्मनः । एकायकस्तु पश्ये रहित जनकात्मजाम् ॥ १२ ॥ माये हेतु रक्षोभी रामस्य विदितास्मनः । भवेयर्पमिदं कार्य रावणानर्थमिच्छतः ॥ १३ ॥ नहि शक्यं क्वचित्स्थातुपविजातेन राक्षसः अपि राक्षसरूपेण किमुकान्येन केनचित् ॥ १४ ॥ वायुरप्यत्र नाडावश्चरेदिति मतिर्मम । नपत्राविदित किश्चिद्रक्षसां भीमकर्मणाम् ॥ १५ ॥ तदहं स्पेन रूपेण रजन्यां इस्वतां गतः । लङ्कामभिपत्तिष्यामि राघवस्यासिद्धये ॥ १६ ॥ इति निश्चित्पइनूमान सूर्यस्यास्तमय कपिभाचकांक्षे तदा वीरो पैदेह्या दर्शनोत्सुकः ॥ १७ ॥ टीका-उत्तम पराक्रम वाला बद्द श्रीमान् सौ योजनपारहोकर भी न हांपा है, न खेद को प्राप्त हुआ है ॥ १॥ वह वीर्यचालों में श्रेष्ठ और फांदने वालों में उत्तम महा सागर को लंप कर वेग से लंका को गया ।। २॥ नीले हरे घास के, उत्तम गन्ध वाले, मधु वाले और उत्तम हों वाले बनों के मध्य में से गया। ३ ॥ उस लक्ष्मी.सुन्दर काण्ड ६४१ वान ने वहां पहुंच कर रावण से पालित लंका को देखा, जो पत्तो'"
      ]
     },
     "execution_count": 31,
     "metadata": {},
     "output_type": "execute_result"
    }
   ],
   "source": [
    "cleaned_sarg[0:1500]"
   ]
  },
  {
   "cell_type": "code",
   "execution_count": null,
   "metadata": {},
   "outputs": [],
   "source": []
  }
 ],
 "metadata": {
  "kernelspec": {
   "display_name": "Python 3",
   "language": "python",
   "name": "python3"
  },
  "language_info": {
   "codemirror_mode": {
    "name": "ipython",
    "version": 3
   },
   "file_extension": ".py",
   "mimetype": "text/x-python",
   "name": "python",
   "nbconvert_exporter": "python",
   "pygments_lexer": "ipython3",
   "version": "3.7.4"
  }
 },
 "nbformat": 4,
 "nbformat_minor": 2
}
