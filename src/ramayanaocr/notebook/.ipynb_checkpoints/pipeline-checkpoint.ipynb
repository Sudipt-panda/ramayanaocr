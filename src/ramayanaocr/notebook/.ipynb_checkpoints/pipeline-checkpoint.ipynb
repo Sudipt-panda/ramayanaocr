{
 "cells": [
  {
   "cell_type": "code",
   "execution_count": 2,
   "metadata": {},
   "outputs": [],
   "source": [
    "# https://www.kaggle.com/kernels/scriptcontent/11511967/notebook\n",
    "\n",
    "import string\n",
    "import numpy as np\n",
    "import pandas as pd\n",
    "# from IPython.display import display\n",
    "from tqdm import tqdm\n",
    "from collections import Counter\n",
    "import ast\n",
    "import re\n",
    "from pprint import pprint\n",
    "\n",
    "# Plotting tools\n",
    "import pyLDAvis\n",
    "import pyLDAvis.gensim  # don't skip this\n",
    "import matplotlib.pyplot as plt\n",
    "# import matplotlib.mlab as mlab\n",
    "import seaborn as sb\n",
    "\n",
    "from sklearn.feature_extraction.text import CountVectorizer\n",
    "# from textblob import TextBlob\n",
    "import scipy.stats as stats\n",
    "\n",
    "from sklearn.decomposition import TruncatedSVD\n",
    "from sklearn.decomposition import LatentDirichletAllocation\n",
    "from sklearn.manifold import TSNE\n",
    "\n",
    "import nltk\n",
    "from nltk.tag import tnt\n",
    "from nltk.corpus import stopwords\n",
    "from nltk.corpus import indian\n",
    "from nltk.tokenize import word_tokenize,sent_tokenize\n",
    "\n",
    "import gensim\n",
    "from gensim.utils import simple_preprocess\n",
    "from gensim.models import CoherenceModel\n",
    "import gensim.corpora as corpora\n",
    "from gensim.summarization import summarize\n",
    "\n",
    "import stanfordnlp\n",
    "\n",
    "import warnings\n",
    "warnings.filterwarnings(\"ignore\")\n",
    "\n",
    "# from bokeh.plotting import figure, output_file, show\n",
    "# from bokeh.models import Label\n",
    "# from bokeh.io import output_notebook\n",
    "# output_notebook()\n",
    "\n",
    "%matplotlib inline"
   ]
  },
  {
   "cell_type": "code",
   "execution_count": 3,
   "metadata": {},
   "outputs": [
    {
     "name": "stdout",
     "output_type": "stream",
     "text": [
      "Use device: cpu\n",
      "---\n",
      "Loading: tokenize\n",
      "With settings: \n",
      "{'model_path': '/Users/rohanraj/stanfordnlp_resources/hi_hdtb_models/hi_hdtb_tokenizer.pt', 'lang': 'hi', 'shorthand': 'hi_hdtb', 'mode': 'predict'}\n",
      "---\n",
      "Loading: pos\n",
      "With settings: \n",
      "{'model_path': '/Users/rohanraj/stanfordnlp_resources/hi_hdtb_models/hi_hdtb_tagger.pt', 'pretrain_path': '/Users/rohanraj/stanfordnlp_resources/hi_hdtb_models/hi_hdtb.pretrain.pt', 'lang': 'hi', 'shorthand': 'hi_hdtb', 'mode': 'predict'}\n",
      "---\n",
      "Loading: lemma\n",
      "With settings: \n",
      "{'model_path': '/Users/rohanraj/stanfordnlp_resources/hi_hdtb_models/hi_hdtb_lemmatizer.pt', 'lang': 'hi', 'shorthand': 'hi_hdtb', 'mode': 'predict'}\n",
      "Building an attentional Seq2Seq model...\n",
      "Using a Bi-LSTM encoder\n",
      "Using soft attention for LSTM.\n",
      "Finetune all embeddings.\n",
      "[Running seq2seq lemmatizer with edit classifier]\n",
      "---\n",
      "Loading: depparse\n",
      "With settings: \n",
      "{'model_path': '/Users/rohanraj/stanfordnlp_resources/hi_hdtb_models/hi_hdtb_parser.pt', 'pretrain_path': '/Users/rohanraj/stanfordnlp_resources/hi_hdtb_models/hi_hdtb.pretrain.pt', 'lang': 'hi', 'shorthand': 'hi_hdtb', 'mode': 'predict'}\n",
      "Done loading processors!\n",
      "---\n"
     ]
    }
   ],
   "source": [
    "nlp = stanfordnlp.Pipeline ( lang = 'hi' ) "
   ]
  },
  {
   "cell_type": "code",
   "execution_count": 4,
   "metadata": {},
   "outputs": [],
   "source": [
    "datafile = '../data/hindi.txt'\n",
    "with open(datafile,'r',encoding='utf-8') as f:\n",
    "    text = f.read()\n",
    "    text = text.split(\"॥\")"
   ]
  },
  {
   "cell_type": "code",
   "execution_count": 5,
   "metadata": {},
   "outputs": [
    {
     "name": "stderr",
     "output_type": "stream",
     "text": [
      "100%|██████████| 1290/1290 [00:00<00:00, 382351.22it/s]\n"
     ]
    }
   ],
   "source": [
    "text_sentence = []\n",
    "i = 0\n",
    "for word in tqdm(text):\n",
    "#     print(i,word)\n",
    "    if re.findall(\"^\\s?\\d+\\s?\",word):\n",
    "        continue\n",
    "    else:   \n",
    "        text_sentence.append(word)"
   ]
  },
  {
   "cell_type": "code",
   "execution_count": 6,
   "metadata": {},
   "outputs": [
    {
     "data": {
      "text/plain": [
       "[' वानर हनुमान सीमा के देखने की उत्कण्ठा येसूयास्त की प्रतीक्षा करता भया ',\n",
       " ' घ४-९) सीता को रावण के भन्तापुर में ढूंढना : वह महावीर्य महान हृदय पाछा वानर श्रेष्ठ रात के समय अद्वार से कोट को फांद कर का में प्रविष्ट हृया ',\n",
       " 'धानरराज के उस हितैषी ने लंका नगरी में प्रवेश करके मानों अपना बायां पाओं शत्रु के सिर पर रख दिया ',\n",
       " \" उस समय सुन्दर 'सब ओर से सजे हुए श्वेत मेघ के तुल्य राक्षसों के जो पद्माकार, स्वस्तिकाकार, और वर्धमान घर है, उन से इंका जगमन. कर रही थी, राधा के अर्थ वह श्रीमान् घूमता हुमा उसे देखता भया और आनन्दित होता भया ।। ३, ४ \",\n",
       " ' एक भवन से दूसरे भवन को जाते हुए उस वानरश्रेष्ठ ने वहाँ र विविध भाकृति और रूपों वाले भवन देखे ',\n",
       " ' वहाँ राक्षसों के घरों में उसने अप \"करते हुओं के मन्त्र मुने और स्वाध्याय में रत राक्षसों को देखा ',\n",
       " ' राक्षसों के घर से घर और बगीचों को देखता हुआ बेधड़क यह महलों के पास घूमा ',\n",
       " ' तव पवनपुत्र हनुमान ने यह भवन श्रेष्ठ देखा, जो राक्षसपति का भवन है, और बहुत महलों से भरपूर है',\n",
       " ' विशाल नेत्रोंवाली वैदेही सीता को ढूंढता हुआ शत्रुनों के मारनेवाला, हनुमान उसके चारों ओर घूमा ।। ९ ',\n",
       " ' तब वह उस सुन्दर पड़ी माला की ओर मस्थित हुआ, जो उत्तम स्त्री की तरह रावण की बड़ी पारी थी ',\n",
       " ' जिमकी सीदियों में माणेयां जड़ी हुई हैं, जो सोने के झरोकों से भूपित हैं, सङ्गमर्मर का फर्श है, और बीच २ में दान्त का काम किया हुआ है',\n",
       " ' जो सम, सीधे, बड़े कंचे पूरे २ मजे हुए स्तम्भों मे मानों आते ऊँचे पलों से छौ की ओर प्रस्थित हुई है ',\n",
       " ' सोंचम गलीचा जिसमें पिछा हुआ है, राक्षों के अधिपति से सेवित है, मन को प्रसन्न करने वाली और शरीर की कान्ति को बढ़ाने वाली है।। १३ ',\n",
       " ' दीपकों के प्रकाश से, रावण के तेज से, और भूषणों की चमक मे, पानों जलती हुई प्रतीत होती है।',\n",
       " ' उस शाला में देखते हुए इनुमान् ने रत्नों मे भाषेत एक दिव्य विलोरी शपनानन ( बैठने मोने का एला ) देखा ',\n",
       " ' ओर शराब पीकर बन्द हुए, श्रीद चमकते हुए पलङ्ग -. पर लेटे हुए राक्षसाधिपति को उस महारानर ने देखा ',\n",
       " ' ससके पास आकर बड़ा गीवन इा अत्यन्त डरे हुए की तरह पीछे-इट गया, और प्यारी खियों वाले उस राक्षसपति के घर. में बस वानर यूयपति ने चन्द्र तुल्य मुखवाली, सुन्दर कुण्डल पहने हुई, ताजे घुषषों की पालाएं और भूषणोंवाली पनियों को देसा ',\n",
       " ' उन में से एकान्त स्थिव एक गुभ शय्या के ऊपर लेटी हुई रुपवती उम ने एक खो देखी ',\n",
       " ' जो अपनी शोभा से मानों उस उत्तम भवन को शोभायमान करती थी, बद्द मन्दोदरी थी, जोकि सुन्दर रूपवती वहां लेटी हुई थी ',\n",
       " ' महाबाहु पवनसुत ने उस भूषित स्त्री को देखकर उमके रूप यौवन की सम्पदा से रूपाल किया, कि कदाचित यह सीता हो ']"
      ]
     },
     "execution_count": 6,
     "metadata": {},
     "output_type": "execute_result"
    }
   ],
   "source": [
    "text_sentence[0:20]"
   ]
  },
  {
   "cell_type": "code",
   "execution_count": 7,
   "metadata": {},
   "outputs": [
    {
     "data": {
      "text/plain": [
       "667"
      ]
     },
     "execution_count": 7,
     "metadata": {},
     "output_type": "execute_result"
    }
   ],
   "source": [
    "len(text_sentence) #total sentences"
   ]
  },
  {
   "cell_type": "code",
   "execution_count": 9,
   "metadata": {},
   "outputs": [],
   "source": [
    "# hindi stopwords\n",
    "stop_words_df = pd.read_csv(\"../data/stopwords.txt\", header = None)\n",
    "stop_words = list(set(stop_words_df.values.reshape(1,-1).tolist()[0]))\n",
    "stop_words.extend([\"।\", \"।।\", \")\", \"(\", \",\",\"\",\"हे\", \"हो\", 'में','से'])"
   ]
  },
  {
   "cell_type": "code",
   "execution_count": 10,
   "metadata": {},
   "outputs": [
    {
     "data": {
      "text/plain": [
       "['भी', 'निहायत', 'मैं', 'उसी', 'तिन्हों', 'अन्य', 'जिस', 'एस', 'सकते', 'गयी']"
      ]
     },
     "execution_count": 10,
     "metadata": {},
     "output_type": "execute_result"
    }
   ],
   "source": [
    "stop_words[:10]"
   ]
  },
  {
   "cell_type": "code",
   "execution_count": 11,
   "metadata": {},
   "outputs": [],
   "source": [
    "# Define helper functions\n",
    "def get_top_n_words(n_top_words, text_data, stop_words):\n",
    "    '''\n",
    "    returns a tuple of the top n words in a sample and their \n",
    "    accompanying counts, given a CountVectorizer object and text sample\n",
    "    '''\n",
    "    count_vectorizer = CountVectorizer(stop_words=stop_words) \n",
    "    vectorized_headlines = count_vectorizer.fit_transform(text_data)\n",
    "#     print(vectorized_headlines)\n",
    "    vectorized_total = np.sum(vectorized_headlines, axis=0)\n",
    "    word_indices = np.flip(np.argsort(vectorized_total)[0,:], 1)\n",
    "    word_values = np.flip(np.sort(vectorized_total)[0,:],1)\n",
    "    \n",
    "    word_vectors = np.zeros((n_top_words, vectorized_headlines.shape[1]))\n",
    "    for i in range(n_top_words):\n",
    "        word_vectors[i,word_indices[0,i]] = 1\n",
    "\n",
    "    words = [word[0] for \n",
    "             word in count_vectorizer.inverse_transform(word_vectors)]\n",
    "\n",
    "    return (words, word_values[0,:n_top_words].tolist()[0])"
   ]
  },
  {
   "cell_type": "code",
   "execution_count": 12,
   "metadata": {},
   "outputs": [],
   "source": [
    "words, word_values = get_top_n_words(n_top_words=5,text_data=text_sentence, stop_words= stop_words)"
   ]
  },
  {
   "cell_type": "code",
   "execution_count": 13,
   "metadata": {},
   "outputs": [
    {
     "data": {
      "text/plain": [
       "(['मह', 'सम', 'नर', 'नह', 'षस'], [110, 108, 104, 102, 100])"
      ]
     },
     "execution_count": 13,
     "metadata": {},
     "output_type": "execute_result"
    }
   ],
   "source": [
    "words, word_values"
   ]
  },
  {
   "cell_type": "code",
   "execution_count": 42,
   "metadata": {},
   "outputs": [],
   "source": [
    "def create_str_from_list(original_read_text):\n",
    "    prepared_text = \"\"\n",
    "    for line in original_read_text:\n",
    "        line = line.split()\n",
    "#       print(line)\n",
    "        tmp_line = \" \".join(line)\n",
    "        prepared_text += \" \\n\"+tmp_line\n",
    "    return prepared_text"
   ]
  },
  {
   "cell_type": "code",
   "execution_count": 43,
   "metadata": {},
   "outputs": [],
   "source": [
    "str_text = create_str_from_list(text_sentence)"
   ]
  },
  {
   "cell_type": "code",
   "execution_count": 44,
   "metadata": {
    "scrolled": true
   },
   "outputs": [
    {
     "data": {
      "text/plain": [
       "' \\nवानर हनुमान सीमा के देखने की उत्कण्ठा येसूयास्त की प्रतीक्षा करता भया \\nघ४-९) सीता को रावण के भन्तापुर में ढूंढना : वह महावीर्य महान हृदय पाछा वानर श्रेष्ठ रात के समय अद्वार से कोट को फांद कर का में प्रविष्ट हृया \\nधानरराज के उस हितैषी ने लंका नगरी में प्रवेश करके मानों अपना बायां पाओं शत्रु के सिर पर रख दिया \\nउस समय सुन्दर \\'सब ओर से सजे हुए श्वेत मेघ के तुल्य राक्षसों के जो पद्माकार, स्वस्तिकाकार, और वर्धमान घर है, उन से इंका जगमन. कर रही थी, राधा के अर्थ वह श्रीमान् घूमता हुमा उसे देखता भया और आनन्दित होता भया ।। ३, ४ \\nएक भवन से दूसरे भवन को जाते हुए उस वानरश्रेष्ठ ने वहाँ र विविध भाकृति और रूपों वाले भवन देखे \\nवहाँ राक्षसों के घरों में उसने अप \"करते हुओं के मन्त्र मुने और स्वाध्याय में रत राक्षसों को देखा \\nराक्षसों के घर से घर और बगीचों को देखता हुआ बेधड़क यह महलों के पास घूमा \\nतव पवनपुत्र हनुमान ने यह भवन श्रेष्ठ देखा, जो राक्षसपति का भवन है, और बहुत महलों से भरपूर है \\nविशाल नेत्रोंवाली वैदेही सीता को ढूंढता हुआ शत्रुनों के मारनेवाला, हनुमान उसके चारों ओर घूमा ।। ९ \\nतब वह उस सुन्दर पड़ी माला की ओर मस्थित हुआ, जो उत्तम स्त्री की तरह रावण की बड़ी पारी थी \\nजिमकी सीदियों में माणेयां जड़ी हुई हैं, जो सोने के झरोकों से भूपित हैं, सङ्गमर्मर का फर्श है, और बीच २ में दान्त का काम किया हुआ है \\nजो सम, सीधे, बड़े कंचे पूरे २ मजे हुए स्तम्भों मे मानों आते ऊँचे पलों से छौ की ओर प्रस्थित हुई है \\nसोंचम गलीचा जिसमें पिछा हुआ है, राक्षों के अधिपति से सेवित है, मन को प्रसन्न करने वाली और शरीर की कान्ति को बढ़ाने वाली है।। १३ \\nदीपकों के प्रकाश से, रावण के तेज से, और भूषणों की चमक मे, पानों जलती हुई प्रतीत होती है। \\nउस शाला में देखते हुए इनुमान् ने रत्नों मे भाषेत एक दिव्य विलोरी शपनानन ( बैठने मोने का एला ) देखा \\nओर शराब पीकर बन्द हुए, श्रीद चमकते हुए पलङ्ग -. पर लेटे हुए राक्षसाधिपति को उस महारानर ने देखा \\nससके पास आकर बड़ा गीवन इा अत्यन्त डरे हुए की तरह पीछे-इट गया, और प्यारी खियों वाले उस राक्षसपति के घर. में बस वानर यूयपति ने चन्द्र तुल्य मुखवाली, सुन्दर कुण्डल पहने हुई, ताजे घुषषों की पालाएं और भूषणोंवाली पनियों को देसा \\nउन में से एकान्त स्थिव एक गुभ शय्या के ऊपर लेटी हुई रुपव'"
      ]
     },
     "execution_count": 44,
     "metadata": {},
     "output_type": "execute_result"
    }
   ],
   "source": [
    "str_text[0:2000]"
   ]
  },
  {
   "cell_type": "code",
   "execution_count": 84,
   "metadata": {},
   "outputs": [
    {
     "data": {
      "text/plain": [
       "'घ४-९) सीता को रावण के भन्तापुर में ढूंढना : वह महावीर्य महान हृदय पाछा वानर श्रेष्ठ रात के समय अद्वार से कोट को फांद कर का में प्रविष्ट हृया \\nराक्षसों के घर से घर और बगीचों को देखता हुआ बेधड़क यह महलों के पास घूमा \\nमें बस वानर यूयपति ने चन्द्र तुल्य मुखवाली, सुन्दर कुण्डल पहने हुई, ताजे घुषषों की पालाएं और भूषणोंवाली पनियों को देसा '"
      ]
     },
     "execution_count": 84,
     "metadata": {},
     "output_type": "execute_result"
    }
   ],
   "source": [
    "summarize(str_text[0:2000],word_count=60)"
   ]
  },
  {
   "cell_type": "code",
   "execution_count": 50,
   "metadata": {},
   "outputs": [],
   "source": [
    "import networkx as nx\n",
    "import numpy as np\n",
    "import math\n",
    "import re\n",
    "\n",
    "from nltk.tokenize.punkt import PunktSentenceTokenizer\n",
    "from sklearn.feature_extraction.text import TfidfTransformer, CountVectorizer"
   ]
  },
  {
   "cell_type": "code",
   "execution_count": 65,
   "metadata": {},
   "outputs": [],
   "source": [
    "def textrankTfIdf(document):\n",
    "    # sentence_tokenizer = PunktSentenceTokenizer()\n",
    "    # sentences = sentence_tokenizer.tokenize(document, 'hindi')\n",
    "\n",
    "    sentences = document\n",
    "    bow_matrix = CountVectorizer().fit_transform(sentences)\n",
    "    # normalized = TfidfTransformer(norm='l2', use_idf=True, use_bm25idf=True, smooth_idf=True,\n",
    "    #              delta_idf=False, sublinear_tf=False, bm25_tf=True).fit_transform(bow_matrix)\n",
    "\n",
    "    normalized = TfidfTransformer().fit_transform(bow_matrix)\n",
    "    similarity_graph = normalized * normalized.T\n",
    "\n",
    "    nx_graph = nx.from_scipy_sparse_matrix(similarity_graph)\n",
    "    scores = nx.pagerank(nx_graph)\n",
    "    return sorted(((scores[i], s) for i, s in enumerate(sentences)),\n",
    "                  reverse=True)"
   ]
  },
  {
   "cell_type": "code",
   "execution_count": 66,
   "metadata": {},
   "outputs": [],
   "source": [
    "def orderSentences(rankedList, data, initSentences):\n",
    "    index = ['']*len(data)\n",
    "    # print(rankedList)\n",
    "    for eachRanked in rankedList[0:int(math.ceil(0.3*len(rankedList)))]:\n",
    "        sen = eachRanked[1]\n",
    "        index[data.index(sen)] = initSentences[data.index(sen)]\n",
    "        # print(data.index(sen))\n",
    "    return index"
   ]
  },
  {
   "cell_type": "code",
   "execution_count": 90,
   "metadata": {},
   "outputs": [],
   "source": [
    "rankedSentences = textrankTfIdf(text_sentence[0:25])\n",
    "orderedsentences = orderSentences(rankedSentences, text_sentence[0:25], text_sentence[0:25])"
   ]
  },
  {
   "cell_type": "code",
   "execution_count": 91,
   "metadata": {},
   "outputs": [
    {
     "name": "stdout",
     "output_type": "stream",
     "text": [
      " उस समय सुन्दर 'सब ओर से सजे हुए श्वेत मेघ के तुल्य राक्षसों के जो पद्माकार, स्वस्तिकाकार, और वर्धमान घर है, उन से इंका जगमन. कर रही थी, राधा के अर्थ वह श्रीमान् घूमता हुमा उसे देखता भया और आनन्दित होता भया ।। ३, ४ \n",
      " एक भवन से दूसरे भवन को जाते हुए उस वानरश्रेष्ठ ने वहाँ र विविध भाकृति और रूपों वाले भवन देखे \n",
      " वहाँ राक्षसों के घरों में उसने अप \"करते हुओं के मन्त्र मुने और स्वाध्याय में रत राक्षसों को देखा \n",
      " तब वह उस सुन्दर पड़ी माला की ओर मस्थित हुआ, जो उत्तम स्त्री की तरह रावण की बड़ी पारी थी \n",
      " ओर शराब पीकर बन्द हुए, श्रीद चमकते हुए पलङ्ग -. पर लेटे हुए राक्षसाधिपति को उस महारानर ने देखा \n",
      " जो अपनी शोभा से मानों उस उत्तम भवन को शोभायमान करती थी, बद्द मन्दोदरी थी, जोकि सुन्दर रूपवती वहां लेटी हुई थी \n",
      " य०१०-११) राधण के अन्तःपुर में सीता का न पाना पर उसी समय उस रूपाळ को पटाकर, स्थित हुा महा . घानर सीता के विषय भरा विचार करता भया \n",
      " नि:सन्देह यह कोई और है, ऐसा निश्चय करके फिर वह विचरने लगा, \" इसमकार रावण का सारा अन्तःपुर( रनिवास ) उस महातेजस्वी वानर ने पूरी तरह देखा, पर जानकी को नहीं देखा \n"
     ]
    }
   ],
   "source": [
    "for ordered in orderedsentences:\n",
    "    if ordered != \"\":\n",
    "        print(ordered)\n",
    "        #print(rankedSentencesDoc.write(str(ordered) + u'\\u0964' + \"\\n\"))"
   ]
  },
  {
   "cell_type": "code",
   "execution_count": 92,
   "metadata": {},
   "outputs": [
    {
     "data": {
      "text/plain": [
       "[' वानर हनुमान सीमा के देखने की उत्कण्ठा येसूयास्त की प्रतीक्षा करता भया ',\n",
       " ' घ४-९) सीता को रावण के भन्तापुर में ढूंढना : वह महावीर्य महान हृदय पाछा वानर श्रेष्ठ रात के समय अद्वार से कोट को फांद कर का में प्रविष्ट हृया ',\n",
       " 'धानरराज के उस हितैषी ने लंका नगरी में प्रवेश करके मानों अपना बायां पाओं शत्रु के सिर पर रख दिया ',\n",
       " \" उस समय सुन्दर 'सब ओर से सजे हुए श्वेत मेघ के तुल्य राक्षसों के जो पद्माकार, स्वस्तिकाकार, और वर्धमान घर है, उन से इंका जगमन. कर रही थी, राधा के अर्थ वह श्रीमान् घूमता हुमा उसे देखता भया और आनन्दित होता भया ।। ३, ४ \",\n",
       " ' एक भवन से दूसरे भवन को जाते हुए उस वानरश्रेष्ठ ने वहाँ र विविध भाकृति और रूपों वाले भवन देखे ',\n",
       " ' वहाँ राक्षसों के घरों में उसने अप \"करते हुओं के मन्त्र मुने और स्वाध्याय में रत राक्षसों को देखा ',\n",
       " ' राक्षसों के घर से घर और बगीचों को देखता हुआ बेधड़क यह महलों के पास घूमा ',\n",
       " ' तव पवनपुत्र हनुमान ने यह भवन श्रेष्ठ देखा, जो राक्षसपति का भवन है, और बहुत महलों से भरपूर है',\n",
       " ' विशाल नेत्रोंवाली वैदेही सीता को ढूंढता हुआ शत्रुनों के मारनेवाला, हनुमान उसके चारों ओर घूमा ।। ९ ',\n",
       " ' तब वह उस सुन्दर पड़ी माला की ओर मस्थित हुआ, जो उत्तम स्त्री की तरह रावण की बड़ी पारी थी ',\n",
       " ' जिमकी सीदियों में माणेयां जड़ी हुई हैं, जो सोने के झरोकों से भूपित हैं, सङ्गमर्मर का फर्श है, और बीच २ में दान्त का काम किया हुआ है',\n",
       " ' जो सम, सीधे, बड़े कंचे पूरे २ मजे हुए स्तम्भों मे मानों आते ऊँचे पलों से छौ की ओर प्रस्थित हुई है ',\n",
       " ' सोंचम गलीचा जिसमें पिछा हुआ है, राक्षों के अधिपति से सेवित है, मन को प्रसन्न करने वाली और शरीर की कान्ति को बढ़ाने वाली है।। १३ ',\n",
       " ' दीपकों के प्रकाश से, रावण के तेज से, और भूषणों की चमक मे, पानों जलती हुई प्रतीत होती है।',\n",
       " ' उस शाला में देखते हुए इनुमान् ने रत्नों मे भाषेत एक दिव्य विलोरी शपनानन ( बैठने मोने का एला ) देखा ',\n",
       " ' ओर शराब पीकर बन्द हुए, श्रीद चमकते हुए पलङ्ग -. पर लेटे हुए राक्षसाधिपति को उस महारानर ने देखा ',\n",
       " ' ससके पास आकर बड़ा गीवन इा अत्यन्त डरे हुए की तरह पीछे-इट गया, और प्यारी खियों वाले उस राक्षसपति के घर. में बस वानर यूयपति ने चन्द्र तुल्य मुखवाली, सुन्दर कुण्डल पहने हुई, ताजे घुषषों की पालाएं और भूषणोंवाली पनियों को देसा ',\n",
       " ' उन में से एकान्त स्थिव एक गुभ शय्या के ऊपर लेटी हुई रुपवती उम ने एक खो देखी ',\n",
       " ' जो अपनी शोभा से मानों उस उत्तम भवन को शोभायमान करती थी, बद्द मन्दोदरी थी, जोकि सुन्दर रूपवती वहां लेटी हुई थी ',\n",
       " ' महाबाहु पवनसुत ने उस भूषित स्त्री को देखकर उमके रूप यौवन की सम्पदा से रूपाल किया, कि कदाचित यह सीता हो ',\n",
       " ' य०१०-११) राधण के अन्तःपुर में सीता का न पाना पर उसी समय उस रूपाळ को पटाकर, स्थित हुा महा . घानर सीता के विषय भरा विचार करता भया ',\n",
       " 'कि राम से वियुक्त हुई वह मुन्दरीन सो सक्ती है, न भोग रती है, न अलङ्कार कर सक्ती है, न पान सेवन कर सक्ती है ',\n",
       " ' नि:सन्देह यह कोई और है, ऐसा निश्चय करके फिर वह विचरने लगा, \" इसमकार रावण का सारा अन्तःपुर( रनिवास ) उस महातेजस्वी वानर ने पूरी तरह देखा, पर जानकी को नहीं देखा ',\n",
       " ' उन स्त्रियों को देखते हुए, वर्ग भय से भीत हुए, उस पहावानर को षड़ी शङ्का उत्पन्न हुई',\n",
       " ' सोई हुई कुलीन परस्त्री को देखना, यह मेरा अत्यन्त घपलोप करेगा ']"
      ]
     },
     "execution_count": 92,
     "metadata": {},
     "output_type": "execute_result"
    }
   ],
   "source": [
    "text_sentence[0:25]"
   ]
  },
  {
   "cell_type": "code",
   "execution_count": null,
   "metadata": {},
   "outputs": [],
   "source": []
  }
 ],
 "metadata": {
  "kernelspec": {
   "display_name": "Python 3",
   "language": "python",
   "name": "python3"
  },
  "language_info": {
   "codemirror_mode": {
    "name": "ipython",
    "version": 3
   },
   "file_extension": ".py",
   "mimetype": "text/x-python",
   "name": "python",
   "nbconvert_exporter": "python",
   "pygments_lexer": "ipython3",
   "version": "3.7.4"
  }
 },
 "nbformat": 4,
 "nbformat_minor": 2
}
